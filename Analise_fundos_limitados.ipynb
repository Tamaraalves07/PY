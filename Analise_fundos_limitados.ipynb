{
 "cells": [
  {
   "cell_type": "code",
   "execution_count": 1,
   "id": "998d282e",
   "metadata": {},
   "outputs": [
    {
     "name": "stdout",
     "output_type": "stream",
     "text": [
      "[base_dados.py directory]: C:\\Temp\\Foundation\n",
      "[databases.py directory]: C:\\Temp\\Foundation\n"
     ]
    }
   ],
   "source": [
    "from datetime import date, datetime\n",
    "import pandas as pd\n",
    "import subprocess \n",
    "from subprocess import Popen\n",
    "import time\n",
    "import io, contextlib\n",
    "from zipfile import ZipFile\n",
    "from databases import Bawm, Crm, PosicaoDm1,PosicaoAdministrador,Boletador,BDS\n",
    "from emailer import Email, EmailLer\n",
    "from funcoes_datas import FuncoesDatas\n",
    "from filemanager import FileMgmt\n",
    "from datetime import date, datetime, timedelta\n",
    "import win32com.client as win32\n",
    "from databases import Bawm, Crm,PosicaoDm1\n",
    "from zipfile import ZipFile\n",
    "import os\n",
    "import calendar\n",
    "import numpy as np\n",
    "import ambiente\n",
    "from funcoes_datas import FuncoesDatas\n",
    "from objetos import Fundo\n",
    "from pretty_html_table import build_table"
   ]
  },
  {
   "cell_type": "code",
   "execution_count": 19,
   "id": "175b7bae",
   "metadata": {},
   "outputs": [],
   "source": [
    "#Puxa as Classes do Data Base\n",
    "bawm = Bawm()\n",
    "datas =  FuncoesDatas()\n",
    "hoje = datas.hoje()\n",
    "posicao = PosicaoDm1()\n"
   ]
  },
  {
   "cell_type": "code",
   "execution_count": 20,
   "id": "95e4f901",
   "metadata": {},
   "outputs": [],
   "source": [
    "posicao = posicao.__posicao_fundos_all__()"
   ]
  },
  {
   "cell_type": "code",
   "execution_count": 21,
   "id": "4bfefb51",
   "metadata": {},
   "outputs": [],
   "source": [
    "cadastro = bawm.po_cadastro()"
   ]
  },
  {
   "cell_type": "code",
   "execution_count": 22,
   "id": "ec629cba",
   "metadata": {},
   "outputs": [],
   "source": [
    "#Verificar por emissor 20%\n",
    "\n",
    "posicao_emissor = posicao[posicao['NomeEmissor'].notnull()]\n",
    "posicao_emissor = posicao_emissor[posicao_emissor['NomeEmissor']!=None]\n",
    "posicao_emissor = posicao_emissor[['NomeContaCRM','TipoProduto','Classe','NomeEmissor','PesoFinal']]\n",
    "posicao_emissor = posicao_emissor.groupby(['NomeContaCRM','TipoProduto','NomeEmissor']).sum().reset_index().sort_values(by=['PesoFinal'],ascending=False).reset_index(drop=True)\n",
    "posicao_emissor['PesoFinal'] = posicao_emissor['PesoFinal']*100\n",
    "posicao_emissor = posicao_emissor[(posicao_emissor['PesoFinal']<100)&(posicao_emissor['PesoFinal']>1)]"
   ]
  },
  {
   "cell_type": "code",
   "execution_count": 23,
   "id": "07746f10",
   "metadata": {},
   "outputs": [],
   "source": [
    "#Percentual por emissor no exterior - 20%\n",
    "\n",
    "posicao_exterior = posicao[posicao['Classe'].str.contains('Internacional')]\n",
    "posicao_exterior = posicao_exterior[['NomeContaCRM','NomeProduto','TipoProduto','PesoFinal']].groupby(['NomeContaCRM','NomeProduto']).sum().reset_index().sort_values(by=['PesoFinal'],ascending=False).reset_index(drop=True)\n",
    "posicao_exterior['PesoFinal'] = posicao_exterior['PesoFinal']*100\n",
    "posicao_exterior = posicao_exterior[(posicao_exterior['PesoFinal']<100)&(posicao_exterior['PesoFinal']>1)]"
   ]
  },
  {
   "cell_type": "code",
   "execution_count": 24,
   "id": "d4543bfe",
   "metadata": {},
   "outputs": [],
   "source": [
    "#Percentual do somatório de cotas dos FIDCs + FIPs - 50%\n",
    "# Percentual por emissor 20%\n",
    "\n",
    "posicao['NomeProduto'] = posicao['NomeProduto'].str.lower()\n",
    "\n",
    "posicao_fip = posicao[posicao['NomeProduto'].str.contains('fip')]\n",
    "posicao_fip_emissor = posicao_fip[['NomeContaCRM','PesoFinal','NomeProduto']].groupby(['NomeContaCRM','NomeProduto']).sum().reset_index().sort_values(by=['PesoFinal'],ascending=False).reset_index(drop=True)\n",
    "posicao_fip_emissor['PesoFinal'] = posicao_fip_emissor['PesoFinal']*100\n",
    "\n",
    "posicao_fidc = posicao[posicao['NomeProduto'].str.contains('fidc')]\n",
    "posicao_fidc_emissor = posicao_fidc[['NomeContaCRM','PesoFinal','NomeProduto']].groupby(['NomeContaCRM','NomeProduto']).sum().reset_index().sort_values(by=['PesoFinal'],ascending=False).reset_index(drop=True)\n",
    "posicao_fidc_emissor['PesoFinal'] = posicao_fidc_emissor['PesoFinal']*100\n",
    "\n",
    "posicao_fip_fidc = pd.concat([posicao_fip,posicao_fidc])\n",
    "posicao_fip_fidc = posicao_fip_fidc[['NomeContaCRM','PesoFinal']].groupby(['NomeContaCRM']).sum().reset_index().sort_values(by=['PesoFinal'],ascending=False).reset_index(drop=True)\n",
    "posicao_fip_fidc['PesoFinal'] = posicao_fip_fidc['PesoFinal']*100\n",
    "posicao_fip_fidc = posicao_fip_fidc[(posicao_fip_fidc['PesoFinal']<100)&(posicao_fip_fidc['PesoFinal']>1)]"
   ]
  },
  {
   "cell_type": "code",
   "execution_count": 30,
   "id": "bf84423d",
   "metadata": {},
   "outputs": [
    {
     "data": {
      "text/html": [
       "<div>\n",
       "<style scoped>\n",
       "    .dataframe tbody tr th:only-of-type {\n",
       "        vertical-align: middle;\n",
       "    }\n",
       "\n",
       "    .dataframe tbody tr th {\n",
       "        vertical-align: top;\n",
       "    }\n",
       "\n",
       "    .dataframe thead th {\n",
       "        text-align: right;\n",
       "    }\n",
       "</style>\n",
       "<table border=\"1\" class=\"dataframe\">\n",
       "  <thead>\n",
       "    <tr style=\"text-align: right;\">\n",
       "      <th></th>\n",
       "      <th>NomeContaCRM</th>\n",
       "      <th>NomeProduto</th>\n",
       "      <th>PesoFinal</th>\n",
       "    </tr>\n",
       "  </thead>\n",
       "  <tbody>\n",
       "    <tr>\n",
       "      <th>0</th>\n",
       "      <td>_Fiducia Master FIM CrPr IE</td>\n",
       "      <td>multi asset fidc multissetorial - sr 11 (brl)</td>\n",
       "      <td>37.046803</td>\n",
       "    </tr>\n",
       "    <tr>\n",
       "      <th>1</th>\n",
       "      <td>_Black Hawk FIM CrPr IE</td>\n",
       "      <td>vega fidc - sb (brl)</td>\n",
       "      <td>17.043140</td>\n",
       "    </tr>\n",
       "    <tr>\n",
       "      <th>2</th>\n",
       "      <td>_Charlotte FIM CP IE</td>\n",
       "      <td>sb fidc multissetorial - 5s1e sr cdi+4,50% 16/...</td>\n",
       "      <td>11.959159</td>\n",
       "    </tr>\n",
       "    <tr>\n",
       "      <th>3</th>\n",
       "      <td>_Carmel JBFO FIM CrPr IE</td>\n",
       "      <td>fidc cartao de compra supplier - mz i cdi+3,00...</td>\n",
       "      <td>9.555735</td>\n",
       "    </tr>\n",
       "    <tr>\n",
       "      <th>4</th>\n",
       "      <td>_Pedra Negra RFP FIM CP IE</td>\n",
       "      <td>sifra energy podium fidc - 1s2e sr cdi+2,92% 1...</td>\n",
       "      <td>9.300529</td>\n",
       "    </tr>\n",
       "    <tr>\n",
       "      <th>...</th>\n",
       "      <td>...</td>\n",
       "      <td>...</td>\n",
       "      <td>...</td>\n",
       "    </tr>\n",
       "    <tr>\n",
       "      <th>1709</th>\n",
       "      <td>_Cheers FIC FIM CrPr IE</td>\n",
       "      <td>sav nexoos fidc - 2s1e cdi+4,50% 22/fev/26 (brl)</td>\n",
       "      <td>-0.020870</td>\n",
       "    </tr>\n",
       "    <tr>\n",
       "      <th>1710</th>\n",
       "      <td>_Arten FIM CrPr IE</td>\n",
       "      <td>green fidc solar gd - fidc socioambiental - en...</td>\n",
       "      <td>-0.228223</td>\n",
       "    </tr>\n",
       "    <tr>\n",
       "      <th>1711</th>\n",
       "      <td>_Arten FIM CrPr IE</td>\n",
       "      <td>green fidc solar gd - fidc socioambiental - en...</td>\n",
       "      <td>-0.379651</td>\n",
       "    </tr>\n",
       "    <tr>\n",
       "      <th>1712</th>\n",
       "      <td>_Arten FIM CrPr IE</td>\n",
       "      <td>green fidc solar gd - fidc socioambiental - en...</td>\n",
       "      <td>-0.425299</td>\n",
       "    </tr>\n",
       "    <tr>\n",
       "      <th>1713</th>\n",
       "      <td>_Arten FIM CrPr IE</td>\n",
       "      <td>green fidc solar gd - fidc socioambiental - en...</td>\n",
       "      <td>-0.653237</td>\n",
       "    </tr>\n",
       "  </tbody>\n",
       "</table>\n",
       "<p>1714 rows × 3 columns</p>\n",
       "</div>"
      ],
      "text/plain": [
       "                     NomeContaCRM  \\\n",
       "0     _Fiducia Master FIM CrPr IE   \n",
       "1         _Black Hawk FIM CrPr IE   \n",
       "2            _Charlotte FIM CP IE   \n",
       "3        _Carmel JBFO FIM CrPr IE   \n",
       "4      _Pedra Negra RFP FIM CP IE   \n",
       "...                           ...   \n",
       "1709      _Cheers FIC FIM CrPr IE   \n",
       "1710           _Arten FIM CrPr IE   \n",
       "1711           _Arten FIM CrPr IE   \n",
       "1712           _Arten FIM CrPr IE   \n",
       "1713           _Arten FIM CrPr IE   \n",
       "\n",
       "                                            NomeProduto  PesoFinal  \n",
       "0         multi asset fidc multissetorial - sr 11 (brl)  37.046803  \n",
       "1                                  vega fidc - sb (brl)  17.043140  \n",
       "2     sb fidc multissetorial - 5s1e sr cdi+4,50% 16/...  11.959159  \n",
       "3     fidc cartao de compra supplier - mz i cdi+3,00...   9.555735  \n",
       "4     sifra energy podium fidc - 1s2e sr cdi+2,92% 1...   9.300529  \n",
       "...                                                 ...        ...  \n",
       "1709   sav nexoos fidc - 2s1e cdi+4,50% 22/fev/26 (brl)  -0.020870  \n",
       "1710  green fidc solar gd - fidc socioambiental - en...  -0.228223  \n",
       "1711  green fidc solar gd - fidc socioambiental - en...  -0.379651  \n",
       "1712  green fidc solar gd - fidc socioambiental - en...  -0.425299  \n",
       "1713  green fidc solar gd - fidc socioambiental - en...  -0.653237  \n",
       "\n",
       "[1714 rows x 3 columns]"
      ]
     },
     "execution_count": 30,
     "metadata": {},
     "output_type": "execute_result"
    }
   ],
   "source": [
    "posicao_fidc_emissor"
   ]
  },
  {
   "cell_type": "code",
   "execution_count": 25,
   "id": "750dff04",
   "metadata": {},
   "outputs": [],
   "source": [
    "#Percentual dos fundos ilimitados (dada nossa alocação atual) - 40%\n",
    "\n",
    "dicio_classes_ilimitado = {'R Fixa Pós':0.37,'R Fixa Infl':0.33,'R Variável':0.3,'Investimento no Exterior':0.5,'Outros':0,\n",
    "                          'F Exclusivo':0,'P. Equity':1,'Alternativos':0.3,'Crédito Alternativo':1,'Ajuste':0,'RV Internacional':1,\n",
    "                           'Cambial':1,'R Fixa Pré':0,'Infraestrutura Ilíquidos':1,'Real Estate':0, 'RV Global Hedged':1,'F Exclusivo Ações':1,\n",
    "                           'RF Internacional':0,'RF Distressed':0}\n",
    "\n",
    "posicao_ilimitado = posicao[['NomeContaCRM','Classe','SubClasse','PesoFinal']].groupby(['NomeContaCRM','Classe','SubClasse']).sum().reset_index().sort_values(by=['PesoFinal'],ascending=False).reset_index(drop=True)\n",
    "posicao_ilimitado['PesoFinal'] = posicao_ilimitado['PesoFinal'] * 100\n",
    "posicao_ilimitado['% Ilimitado'] = posicao_ilimitado['Classe'].apply(lambda x : dicio_classes_ilimitado[x])\n",
    "posicao_ilimitado['%F.I'] = posicao_ilimitado['% Ilimitado'] * posicao_ilimitado['PesoFinal']\n",
    "posicao_ilimitado = posicao_ilimitado[(posicao_ilimitado['PesoFinal']<100)&(posicao_ilimitado['PesoFinal']>1)]"
   ]
  },
  {
   "cell_type": "code",
   "execution_count": 26,
   "id": "a2837e42",
   "metadata": {},
   "outputs": [],
   "source": [
    "#Limite por alocação - 25%\n",
    "\n",
    "limite_alocacao = posicao[['NomeContaCRM','NomeProduto','PesoFinal']].groupby(['NomeContaCRM','NomeProduto']).sum().reset_index().sort_values(by=['PesoFinal'],ascending=False).reset_index(drop=True)\n",
    "limite_alocacao['PesoFinal'] = limite_alocacao['PesoFinal']*100\n",
    "limite_alocacao = limite_alocacao[(limite_alocacao['PesoFinal']<100)&(limite_alocacao['PesoFinal']>1)]"
   ]
  },
  {
   "cell_type": "code",
   "execution_count": 32,
   "id": "4323c548",
   "metadata": {},
   "outputs": [],
   "source": [
    "#Gerando excel para e-mail:\n",
    "with pd.ExcelWriter('C:/Temp/Foundation/Analise_Limitadosv2.xlsx') as writer:  \n",
    "    posicao_emissor.to_excel(writer, sheet_name='emissor')\n",
    "    posicao_exterior.to_excel(writer, sheet_name='emissor_exterior')\n",
    "    posicao_fip_emissor.to_excel(writer, sheet_name='emissor_fip')\n",
    "    posicao_fidc_emissor.to_excel(writer, sheet_name='emissor_fidc')\n",
    "    posicao_fip_fidc.to_excel(writer, sheet_name='emissor_fidc_fip')\n",
    "    posicao_ilimitado.to_excel(writer, sheet_name='posicao_ilimitado')\n",
    "    limite_alocacao.to_excel(writer, sheet_name='limite_alocacao')"
   ]
  }
 ],
 "metadata": {
  "kernelspec": {
   "display_name": "Python 3",
   "language": "python",
   "name": "python3"
  },
  "language_info": {
   "codemirror_mode": {
    "name": "ipython",
    "version": 3
   },
   "file_extension": ".py",
   "mimetype": "text/x-python",
   "name": "python",
   "nbconvert_exporter": "python",
   "pygments_lexer": "ipython3",
   "version": "3.8.8"
  }
 },
 "nbformat": 4,
 "nbformat_minor": 5
}
