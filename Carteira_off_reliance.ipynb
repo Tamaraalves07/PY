{
 "cells": [
  {
   "cell_type": "code",
   "execution_count": 1,
   "id": "a7645fd2",
   "metadata": {},
   "outputs": [
    {
     "name": "stdout",
     "output_type": "stream",
     "text": [
      "[base_dados.py directory]: C:\\Temp\\Foundation\n",
      "[databases.py directory]: C:\\Temp\\Foundation\n"
     ]
    }
   ],
   "source": [
    "from databases import BDS, PosicaoDm1, Bawm,Crm,BaseExtrato,off_Reliance\n",
    "from funcoes_datas import FuncoesDatas\n",
    "from dateutil.relativedelta import relativedelta\n",
    "import pandas as pd\n",
    "from datetime import date, timedelta,datetime\n",
    "from dateutil.relativedelta import relativedelta\n",
    "import datetime\n",
    "import numpy as np\n",
    "import math\n",
    "from emailer import Email, EmailLer\n",
    "from pretty_html_table import build_table\n",
    "from funcoes import CalculosRiscoPort"
   ]
  },
  {
   "cell_type": "code",
   "execution_count": 2,
   "id": "bddf68e9",
   "metadata": {},
   "outputs": [],
   "source": [
    "#Chama as classes do databases\n",
    "crm = Crm()\n",
    "bawm = Bawm()\n",
    "datas = FuncoesDatas()\n",
    "extrato = BaseExtrato()\n",
    "bds = BDS()\n",
    "fdt = FuncoesDatas()\n",
    "calc = CalculosRiscoPort(offshore = True)\n",
    "rel_off = off_Reliance('Primeny')\n",
    "\n",
    "#Puxando a ultima data do mes anterior para calculo do extrato\n",
    "data = datetime.datetime.date(fdt.hoje() - relativedelta(days=fdt.hoje().day -1)+timedelta(days=-1))"
   ]
  },
  {
   "cell_type": "code",
   "execution_count": 3,
   "id": "40d3a197",
   "metadata": {},
   "outputs": [],
   "source": [
    "#Informações necessárias para otimização dos portfólios\n",
    "\n",
    "\n",
    "#Traz os de_paras de mandatos (mandato anterior para o atual)\n",
    "mandatos = pd.read_excel('O:/SAO/CICH_All/Portfolio Management/20 - Offshore/De Para Ativos.xlsx',sheet_name='de_para_mandato')\n",
    "mandatos = mandatos[['Anterior','Novo']]\n",
    "#mandatos = dict(mandatos.values)\n",
    "    \n",
    "# #Traz os de_paras de classificação gps para asset Allocation\n",
    "dicio_classificacoes = pd.read_excel('O:/SAO/CICH_All/Portfolio Management/20 - Offshore/De Para Ativos.xlsx',sheet_name='de_para_classificao')\n",
    "dicio_classificacoes=dicio_classificacoes[['Classificação GPS','De Para - Asset Allocation']]\n",
    "dicio_classificacoes = dict(dicio_classificacoes.values)\n",
    "\n",
    "#Novos mandatos\n",
    "novos_mandatos = pd.read_excel('O:/SAO/CICH_All/Portfolio Management/20 - Offshore/De Para Ativos.xlsx',sheet_name='Novos_mandatos')\n",
    "novos_mandatos= novos_mandatos[['Portfolio','Classe','Tático']]\n",
    "\n",
    "#Benchmarks\n",
    "benchs = pd.read_excel('O:/SAO/CICH_All/Portfolio Management/20 - Offshore/De Para Ativos.xlsx',sheet_name='de_para_classificao')\n",
    "benchs=benchs[['De Para - Asset Allocation','Index_Bawm']]"
   ]
  },
  {
   "cell_type": "code",
   "execution_count": 4,
   "id": "3f1118e2",
   "metadata": {},
   "outputs": [],
   "source": [
    "# #Mapeando as informações da base Reliance e linkando com os produtos da base (classificação, isin e ticker do CRM).\n",
    "\n",
    "#Trazer a última posição disponivel (mes anterior)\n",
    "carteira_rel = rel_off.carteira_reliance(data)\n",
    "trazer_data = datetime.datetime.date(carteira_rel['calculado_em'].max())\n",
    "carteira_rel['calculado_em'] = carteira_rel['calculado_em'].apply(lambda x : datetime.datetime.date(x))\n",
    "carteira_rel = carteira_rel[carteira_rel['calculado_em'] == trazer_data]\n",
    "carteira_rel = carteira_rel[~(carteira_rel['Nome_produto'].str.contains('FWD'))&(carteira_rel['SaldoNaData']>=0)]\n",
    "\n",
    "#Incluir os daldos na composição da carteira\n",
    "saldos = rel_off.buscar_saldos()\n"
   ]
  },
  {
   "cell_type": "code",
   "execution_count": null,
   "id": "c8a87a98",
   "metadata": {},
   "outputs": [],
   "source": [
    "# #Caso seja necessario buscar um cliente especifico\n",
    "# carteira_rel['Nome_Cliente'] = carteira_rel['Nome_Cliente'].astype('str')\n",
    "# #carteira_rel = carteira_rel[carteira_rel['Nome_Cliente'].str.contains('SHIBUYA')]\n",
    "carteira_rel = carteira_rel[carteira_rel['Nome_Cliente']=='ITABAIANA']\n",
    "saldos = saldos[saldos['Nome_Cliente']=='ITABAIANA']"
   ]
  },
  {
   "cell_type": "code",
   "execution_count": 5,
   "id": "d98316c3",
   "metadata": {},
   "outputs": [],
   "source": [
    "#Ajuste da Classe para padrão GPS\n",
    "classes_padrao = pd.read_excel('classificacao.xlsx')[['ID_Produto','cd_asset_class_name']]\n",
    "carteira_rel = pd.merge(left = carteira_rel, right=classes_padrao,left_on='cd_security', right_on='ID_Produto', how='left')\n",
    "carteira_rel['Classe'] = carteira_rel['cd_asset_class_name']\n",
    "carteira_rel = carteira_rel.drop(columns={'ID_Produto','cd_asset_class_name'})\n",
    "\n",
    "#Remover todos os valores iguais a 0\n",
    "\n",
    "carteira_rel = carteira_rel.dropna(subset=['SaldoNaData'])\n",
    "\n",
    "#Concatenar as posicoes com os saldos\n",
    "\n",
    "carteira_rel = carteira_rel[['Data_Posicao', 'Nome_Cliente', 'cd_security','Nome_produto','Classe','Subcategoria','quantidade','SaldoNaData']].rename(columns={'Subcategoria':'Subclasse'})\n",
    "saldos['cd_security'] = 1\n",
    "saldos = saldos[['Data_Posicao', 'Nome_Cliente','cd_security', 'Nome_produto','Classe','Subclasse','quantidade','SaldoNaData']]\n",
    "\n",
    "carteira_rel = pd.concat([carteira_rel,saldos]).sort_values(by=['Nome_Cliente'])\n",
    "carteira_copy = carteira_rel\n",
    "\n",
    "#Ajustar o nome das classes\n",
    "\n",
    "carteira_rel['Classe'] = carteira_rel['Classe'].str.lower()\n",
    "carteira_rel['Nome_Cliente'] = carteira_rel['Nome_Cliente'].astype('str')\n",
    "carteira_rel['Classe']  = carteira_rel['Classe'] .apply(lambda x: x.replace(' -','').replace('não classificado','outros'))\n",
    "carteira_rel=carteira_rel.drop_duplicates(subset=['Data_Posicao', 'Nome_Cliente', 'Nome_produto', 'quantidade','SaldoNaData'])"
   ]
  },
  {
   "cell_type": "code",
   "execution_count": 8,
   "id": "bf7689b5",
   "metadata": {},
   "outputs": [
    {
     "name": "stderr",
     "output_type": "stream",
     "text": [
      "<ipython-input-8-659939519adb>:16: RuntimeWarning: invalid value encountered in double_scalars\n",
      "  percentual = row['SaldoNaData']/financeiro_intraclasse\n",
      "<ipython-input-8-659939519adb>:13: RuntimeWarning: divide by zero encountered in double_scalars\n",
      "  percentual= row['SaldoNaData']/(soma-iliquidos)\n",
      "<ipython-input-8-659939519adb>:13: RuntimeWarning: invalid value encountered in double_scalars\n",
      "  percentual= row['SaldoNaData']/(soma-iliquidos)\n",
      "<ipython-input-8-659939519adb>:21: SettingWithCopyWarning: \n",
      "A value is trying to be set on a copy of a slice from a DataFrame.\n",
      "Try using .loc[row_indexer,col_indexer] = value instead\n",
      "\n",
      "See the caveats in the documentation: https://pandas.pydata.org/pandas-docs/stable/user_guide/indexing.html#returning-a-view-versus-a-copy\n",
      "  carteira_rel['percentual_produto']=percentual_produto\n",
      "<ipython-input-8-659939519adb>:22: SettingWithCopyWarning: \n",
      "A value is trying to be set on a copy of a slice from a DataFrame.\n",
      "Try using .loc[row_indexer,col_indexer] = value instead\n",
      "\n",
      "See the caveats in the documentation: https://pandas.pydata.org/pandas-docs/stable/user_guide/indexing.html#returning-a-view-versus-a-copy\n",
      "  carteira_rel['percentual_produto_intraclasse']=percentual_intraclasse\n",
      "<ipython-input-8-659939519adb>:23: SettingWithCopyWarning: \n",
      "A value is trying to be set on a copy of a slice from a DataFrame.\n",
      "Try using .loc[row_indexer,col_indexer] = value instead\n",
      "\n",
      "See the caveats in the documentation: https://pandas.pydata.org/pandas-docs/stable/user_guide/indexing.html#returning-a-view-versus-a-copy\n",
      "  carteira_rel['Financeiro_Total']=financeiro_total\n",
      "<ipython-input-8-659939519adb>:24: SettingWithCopyWarning: \n",
      "A value is trying to be set on a copy of a slice from a DataFrame.\n",
      "Try using .loc[row_indexer,col_indexer] = value instead\n",
      "\n",
      "See the caveats in the documentation: https://pandas.pydata.org/pandas-docs/stable/user_guide/indexing.html#returning-a-view-versus-a-copy\n",
      "  carteira_rel['Financeiro_Total_s/pe']=financeiro_total_spe\n"
     ]
    }
   ],
   "source": [
    "#Incluir peso dos produtos e os PLs nas carteiras\n",
    "\n",
    "percentual_produto=[]\n",
    "financeiro_total_spe =[]\n",
    "financeiro_total =[]\n",
    "percentual_intraclasse = []\n",
    "\n",
    "for ind,row in carteira_rel.iterrows():   \n",
    "    soma = carteira_rel[carteira_rel['Nome_Cliente']==row['Nome_Cliente']]['SaldoNaData'].sum()\n",
    "    iliquidos = carteira_rel[(carteira_rel['Nome_Cliente']==row['Nome_Cliente'])&(carteira_rel['Classe']=='iliq. p. equity')]['SaldoNaData'].sum()\n",
    "    financeiro_total_spe.append(soma-iliquidos)\n",
    "    financeiro_total.append(soma)\n",
    "    percentual= row['SaldoNaData']/(soma-iliquidos)\n",
    "    percentual_produto.append(percentual)\n",
    "    financeiro_intraclasse = carteira_rel[(carteira_rel['Classe']==row['Classe'])&(carteira_rel['Nome_Cliente']==row['Nome_Cliente'])]['SaldoNaData'].sum()\n",
    "    percentual = row['SaldoNaData']/financeiro_intraclasse\n",
    "    percentual_intraclasse.append(percentual)\n",
    "    \n",
    "    \n",
    "    #Incluir no DataFrame o calculo acima\n",
    "carteira_rel['percentual_produto']=percentual_produto\n",
    "carteira_rel['percentual_produto_intraclasse']=percentual_intraclasse\n",
    "carteira_rel['Financeiro_Total']=financeiro_total\n",
    "carteira_rel['Financeiro_Total_s/pe']=financeiro_total_spe                                      \n",
    "carteira_rel = carteira_rel.sort_values(by=['Classe'])\n",
    "carteira_rel = carteira_rel.fillna(0)\n",
    "carteira_rel=carteira_rel.drop_duplicates(subset=['Data_Posicao', 'Nome_Cliente', 'Nome_produto', 'quantidade','SaldoNaData'])#\n",
    "carteira_rel.to_excel('carteira_reliance_v2.xlsx')"
   ]
  },
  {
   "cell_type": "code",
   "execution_count": 9,
   "id": "a2326108",
   "metadata": {},
   "outputs": [],
   "source": [
    "# #Deixando apenas as colunas que interessam para o groupby\n",
    "peso_te = carteira_rel[carteira_rel['Classe']!='iliq. p. equity']\n",
    "peso_te = peso_te.groupby(['Data_Posicao','Nome_Cliente','Classe','Financeiro_Total','Financeiro_Total_s/pe']).sum().reset_index()\n",
    "peso_te = peso_te[['Data_Posicao','Nome_Cliente','Classe','percentual_produto']]\n",
    "peso_te.to_excel('pesos_carteira_rel.xlsx')"
   ]
  },
  {
   "cell_type": "code",
   "execution_count": 11,
   "id": "d88bdb2b",
   "metadata": {},
   "outputs": [],
   "source": [
    "#Rodar a formula de TE e retornar o melhor portfolio para o cliente\n",
    "carteira_rel = carteira_copy\n",
    "carteira_rel['NomeSupercarteiraCrm'] = carteira_rel['Nome_Cliente']\n",
    "carteira_rel['Politica'] = 'Pontos de Risco'\n",
    "carteira_rel['Officer'] = 'Tamara Alves'\n",
    "carteira_rel['Controller'] = 'Tamara Alves'\n",
    "carteira_rel['CodigoProduto'] = 'Rel ' + str(carteira_rel['cd_security'])  \n",
    "carteira_rel = carteira_rel.rename(columns={'Classe':'classe_sistema','asset_class':'subclasse_sistema','moeda':'Moeda'})"
   ]
  },
  {
   "cell_type": "code",
   "execution_count": 12,
   "id": "f365fe7f",
   "metadata": {},
   "outputs": [
    {
     "ename": "KeyError",
     "evalue": "\"['Moeda', 'PU', 'subclasse_sistema', 'Esteira', 'ISIN'] not in index\"",
     "output_type": "error",
     "traceback": [
      "\u001b[1;31m---------------------------------------------------------------------------\u001b[0m",
      "\u001b[1;31mKeyError\u001b[0m                                  Traceback (most recent call last)",
      "\u001b[1;32m<ipython-input-12-d36bf87f8485>\u001b[0m in \u001b[0;36m<module>\u001b[1;34m\u001b[0m\n\u001b[1;32m----> 1\u001b[1;33m \u001b[0mcarteira_rel\u001b[0m\u001b[1;33m[\u001b[0m\u001b[1;33m[\u001b[0m\u001b[1;34m'Data_Posicao'\u001b[0m\u001b[1;33m,\u001b[0m \u001b[1;34m'NomeSupercarteiraCrm'\u001b[0m\u001b[1;33m,\u001b[0m \u001b[1;34m'Nome_Cliente'\u001b[0m\u001b[1;33m,\u001b[0m \u001b[1;34m'Nome_produto'\u001b[0m\u001b[1;33m,\u001b[0m\u001b[1;34m'CodigoProduto'\u001b[0m\u001b[1;33m,\u001b[0m \u001b[1;34m'ISIN'\u001b[0m\u001b[1;33m,\u001b[0m \u001b[1;34m'quantidade'\u001b[0m\u001b[1;33m,\u001b[0m \u001b[1;34m'PU'\u001b[0m\u001b[1;33m,\u001b[0m \u001b[1;34m'SaldoNaData'\u001b[0m\u001b[1;33m,\u001b[0m \u001b[1;34m'Moeda'\u001b[0m\u001b[1;33m,\u001b[0m\u001b[1;34m'classe_sistema'\u001b[0m\u001b[1;33m,\u001b[0m \u001b[1;34m'subclasse_sistema'\u001b[0m\u001b[1;33m,\u001b[0m \u001b[1;34m'Esteira'\u001b[0m\u001b[1;33m,\u001b[0m \u001b[1;34m'Politica'\u001b[0m\u001b[1;33m,\u001b[0m \u001b[1;34m'Officer'\u001b[0m\u001b[1;33m,\u001b[0m\u001b[1;34m'Controller'\u001b[0m\u001b[1;33m]\u001b[0m\u001b[1;33m]\u001b[0m\u001b[1;33m\u001b[0m\u001b[1;33m\u001b[0m\u001b[0m\n\u001b[0m",
      "\u001b[1;32mC:\\ProgramData\\Anaconda3\\lib\\site-packages\\pandas\\core\\frame.py\u001b[0m in \u001b[0;36m__getitem__\u001b[1;34m(self, key)\u001b[0m\n\u001b[0;32m   3028\u001b[0m             \u001b[1;32mif\u001b[0m \u001b[0mis_iterator\u001b[0m\u001b[1;33m(\u001b[0m\u001b[0mkey\u001b[0m\u001b[1;33m)\u001b[0m\u001b[1;33m:\u001b[0m\u001b[1;33m\u001b[0m\u001b[1;33m\u001b[0m\u001b[0m\n\u001b[0;32m   3029\u001b[0m                 \u001b[0mkey\u001b[0m \u001b[1;33m=\u001b[0m \u001b[0mlist\u001b[0m\u001b[1;33m(\u001b[0m\u001b[0mkey\u001b[0m\u001b[1;33m)\u001b[0m\u001b[1;33m\u001b[0m\u001b[1;33m\u001b[0m\u001b[0m\n\u001b[1;32m-> 3030\u001b[1;33m             \u001b[0mindexer\u001b[0m \u001b[1;33m=\u001b[0m \u001b[0mself\u001b[0m\u001b[1;33m.\u001b[0m\u001b[0mloc\u001b[0m\u001b[1;33m.\u001b[0m\u001b[0m_get_listlike_indexer\u001b[0m\u001b[1;33m(\u001b[0m\u001b[0mkey\u001b[0m\u001b[1;33m,\u001b[0m \u001b[0maxis\u001b[0m\u001b[1;33m=\u001b[0m\u001b[1;36m1\u001b[0m\u001b[1;33m,\u001b[0m \u001b[0mraise_missing\u001b[0m\u001b[1;33m=\u001b[0m\u001b[1;32mTrue\u001b[0m\u001b[1;33m)\u001b[0m\u001b[1;33m[\u001b[0m\u001b[1;36m1\u001b[0m\u001b[1;33m]\u001b[0m\u001b[1;33m\u001b[0m\u001b[1;33m\u001b[0m\u001b[0m\n\u001b[0m\u001b[0;32m   3031\u001b[0m \u001b[1;33m\u001b[0m\u001b[0m\n\u001b[0;32m   3032\u001b[0m         \u001b[1;31m# take() does not accept boolean indexers\u001b[0m\u001b[1;33m\u001b[0m\u001b[1;33m\u001b[0m\u001b[1;33m\u001b[0m\u001b[0m\n",
      "\u001b[1;32mC:\\ProgramData\\Anaconda3\\lib\\site-packages\\pandas\\core\\indexing.py\u001b[0m in \u001b[0;36m_get_listlike_indexer\u001b[1;34m(self, key, axis, raise_missing)\u001b[0m\n\u001b[0;32m   1264\u001b[0m             \u001b[0mkeyarr\u001b[0m\u001b[1;33m,\u001b[0m \u001b[0mindexer\u001b[0m\u001b[1;33m,\u001b[0m \u001b[0mnew_indexer\u001b[0m \u001b[1;33m=\u001b[0m \u001b[0max\u001b[0m\u001b[1;33m.\u001b[0m\u001b[0m_reindex_non_unique\u001b[0m\u001b[1;33m(\u001b[0m\u001b[0mkeyarr\u001b[0m\u001b[1;33m)\u001b[0m\u001b[1;33m\u001b[0m\u001b[1;33m\u001b[0m\u001b[0m\n\u001b[0;32m   1265\u001b[0m \u001b[1;33m\u001b[0m\u001b[0m\n\u001b[1;32m-> 1266\u001b[1;33m         \u001b[0mself\u001b[0m\u001b[1;33m.\u001b[0m\u001b[0m_validate_read_indexer\u001b[0m\u001b[1;33m(\u001b[0m\u001b[0mkeyarr\u001b[0m\u001b[1;33m,\u001b[0m \u001b[0mindexer\u001b[0m\u001b[1;33m,\u001b[0m \u001b[0maxis\u001b[0m\u001b[1;33m,\u001b[0m \u001b[0mraise_missing\u001b[0m\u001b[1;33m=\u001b[0m\u001b[0mraise_missing\u001b[0m\u001b[1;33m)\u001b[0m\u001b[1;33m\u001b[0m\u001b[1;33m\u001b[0m\u001b[0m\n\u001b[0m\u001b[0;32m   1267\u001b[0m         \u001b[1;32mreturn\u001b[0m \u001b[0mkeyarr\u001b[0m\u001b[1;33m,\u001b[0m \u001b[0mindexer\u001b[0m\u001b[1;33m\u001b[0m\u001b[1;33m\u001b[0m\u001b[0m\n\u001b[0;32m   1268\u001b[0m \u001b[1;33m\u001b[0m\u001b[0m\n",
      "\u001b[1;32mC:\\ProgramData\\Anaconda3\\lib\\site-packages\\pandas\\core\\indexing.py\u001b[0m in \u001b[0;36m_validate_read_indexer\u001b[1;34m(self, key, indexer, axis, raise_missing)\u001b[0m\n\u001b[0;32m   1314\u001b[0m             \u001b[1;32mif\u001b[0m \u001b[0mraise_missing\u001b[0m\u001b[1;33m:\u001b[0m\u001b[1;33m\u001b[0m\u001b[1;33m\u001b[0m\u001b[0m\n\u001b[0;32m   1315\u001b[0m                 \u001b[0mnot_found\u001b[0m \u001b[1;33m=\u001b[0m \u001b[0mlist\u001b[0m\u001b[1;33m(\u001b[0m\u001b[0mset\u001b[0m\u001b[1;33m(\u001b[0m\u001b[0mkey\u001b[0m\u001b[1;33m)\u001b[0m \u001b[1;33m-\u001b[0m \u001b[0mset\u001b[0m\u001b[1;33m(\u001b[0m\u001b[0max\u001b[0m\u001b[1;33m)\u001b[0m\u001b[1;33m)\u001b[0m\u001b[1;33m\u001b[0m\u001b[1;33m\u001b[0m\u001b[0m\n\u001b[1;32m-> 1316\u001b[1;33m                 \u001b[1;32mraise\u001b[0m \u001b[0mKeyError\u001b[0m\u001b[1;33m(\u001b[0m\u001b[1;34mf\"{not_found} not in index\"\u001b[0m\u001b[1;33m)\u001b[0m\u001b[1;33m\u001b[0m\u001b[1;33m\u001b[0m\u001b[0m\n\u001b[0m\u001b[0;32m   1317\u001b[0m \u001b[1;33m\u001b[0m\u001b[0m\n\u001b[0;32m   1318\u001b[0m             \u001b[0mnot_found\u001b[0m \u001b[1;33m=\u001b[0m \u001b[0mkey\u001b[0m\u001b[1;33m[\u001b[0m\u001b[0mmissing_mask\u001b[0m\u001b[1;33m]\u001b[0m\u001b[1;33m\u001b[0m\u001b[1;33m\u001b[0m\u001b[0m\n",
      "\u001b[1;31mKeyError\u001b[0m: \"['Moeda', 'PU', 'subclasse_sistema', 'Esteira', 'ISIN'] not in index\""
     ]
    }
   ],
   "source": []
  }
 ],
 "metadata": {
  "kernelspec": {
   "display_name": "Python 3",
   "language": "python",
   "name": "python3"
  },
  "language_info": {
   "codemirror_mode": {
    "name": "ipython",
    "version": 3
   },
   "file_extension": ".py",
   "mimetype": "text/x-python",
   "name": "python",
   "nbconvert_exporter": "python",
   "pygments_lexer": "ipython3",
   "version": "3.8.8"
  }
 },
 "nbformat": 4,
 "nbformat_minor": 5
}
