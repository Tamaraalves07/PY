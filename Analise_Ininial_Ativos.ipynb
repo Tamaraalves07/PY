{
 "cells": [
  {
   "cell_type": "code",
   "execution_count": 32,
   "id": "2cfd60ca",
   "metadata": {},
   "outputs": [],
   "source": [
    "from datetime import date, datetime\n",
    "import pandas as pd\n",
    "import subprocess \n",
    "from subprocess import Popen\n",
    "import time\n",
    "import io, contextlib\n",
    "from zipfile import ZipFile\n",
    "from databases import Bawm, Crm, PosicaoDm1,PosicaoAdministrador,Boletador,BDS\n",
    "from emailer import Email, EmailLer\n",
    "from funcoes_datas import FuncoesDatas\n",
    "from filemanager import FileMgmt\n",
    "from datetime import date, datetime, timedelta\n",
    "import win32com.client as win32\n",
    "from databases import Bawm, Crm,PosicaoDm1\n",
    "from zipfile import ZipFile\n",
    "import os\n",
    "import calendar\n",
    "import numpy as np\n",
    "import ambiente\n",
    "from funcoes_datas import FuncoesDatas\n",
    "from objetos import Fundo\n",
    "from pretty_html_table import build_table"
   ]
  },
  {
   "cell_type": "code",
   "execution_count": 33,
   "id": "0b2549a5",
   "metadata": {},
   "outputs": [],
   "source": [
    "#Puxa as Classes do Data Base\n",
    "bawm = Bawm()\n",
    "datas =  FuncoesDatas()\n",
    "hoje = datas.hoje()\n"
   ]
  },
  {
   "cell_type": "code",
   "execution_count": 34,
   "id": "0b6a77c3",
   "metadata": {},
   "outputs": [],
   "source": [
    "#Função que retorna o patriminio\n",
    "def patrimonio(x):\n",
    "    pl= Fundo(nome_conta_crm=x).plfut_est\n",
    "    return pl "
   ]
  },
  {
   "cell_type": "code",
   "execution_count": 35,
   "id": "4e1a0b90",
   "metadata": {},
   "outputs": [],
   "source": [
    "#Puxa da base PO_Carteira Bawm todos os FICs que possuem produtos diferentes de cotas\n",
    "ativos_verificar = bawm.analise_ativos_fics(hoje)\n",
    "ativos_verificar = ativos_verificar[(ativos_verificar['FinanceiroFinal']!=0)&(ativos_verificar['TipoProduto']!='FUNDO')&(ativos_verificar['TipoProduto']!='BOLSA')&(ativos_verificar['TipoProduto']!='COMP')]"
   ]
  },
  {
   "cell_type": "code",
   "execution_count": 36,
   "id": "ee81e84f",
   "metadata": {},
   "outputs": [],
   "source": [
    "#Retorna o patrimonio por linha e retorna todos os potenciais produtos que podem gerar desenquadramento\n",
    "ativos_verificar['PL']= ativos_verificar['NomeContaCRM'].apply(lambda x: patrimonio(x))\n",
    "ativos_verificar['%PL'] = ativos_verificar['FinanceiroFinal'] /  ativos_verificar['PL']*100\n",
    "ativos_verificar = ativos_verificar[ativos_verificar['%PL']>0.5]\n",
    "ativos_verificar = ativos_verificar[['NomeContaCRM','NomeProduto','%PL']]\n",
    "ativos_verificar = ativos_verificar[ativos_verificar['NomeContaCRM'].str.contains('FIC')]"
   ]
  },
  {
   "cell_type": "code",
   "execution_count": 37,
   "id": "ad274869",
   "metadata": {},
   "outputs": [],
   "source": [
    "#Envia e-mail à PM\n",
    "\n",
    "ativos_verificar = build_table(ativos_verificar, 'blue_light')\n",
    "\n",
    "subject='Favor verificar essas posições nos FICs'\n",
    "to=['portfolio@jbfo.com','mariana.drumond@jbfo.com','flavio.rotter@jbfo.com', 'luiza.gomes@juliusbaer.com']\n",
    "text = '''Prezados .</h3><br>\n",
    "<br>\n",
    "Peço retirar as posições abaixo dos FICs, isso pode gerar desenquadramento .</h3><br>\n",
    "{}<br>\n",
    "\n",
    "\n",
    "'''.format(ativos_verificar,)\n",
    "\n",
    "email = Email(to = to , subject = subject, text= text,send = False)"
   ]
  },
  {
   "cell_type": "code",
   "execution_count": null,
   "id": "2f548d23",
   "metadata": {},
   "outputs": [],
   "source": []
  }
 ],
 "metadata": {
  "kernelspec": {
   "display_name": "Python 3",
   "language": "python",
   "name": "python3"
  },
  "language_info": {
   "codemirror_mode": {
    "name": "ipython",
    "version": 3
   },
   "file_extension": ".py",
   "mimetype": "text/x-python",
   "name": "python",
   "nbconvert_exporter": "python",
   "pygments_lexer": "ipython3",
   "version": "3.8.8"
  }
 },
 "nbformat": 4,
 "nbformat_minor": 5
}
