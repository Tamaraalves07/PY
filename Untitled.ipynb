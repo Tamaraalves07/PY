{
 "cells": [
  {
   "cell_type": "code",
   "execution_count": 53,
   "id": "1678921a",
   "metadata": {},
   "outputs": [],
   "source": [
    "from databases import BDS, PosicaoDm1, Bawm,Crm,BaseExtrato,off_Reliance\n",
    "from funcoes_datas import FuncoesDatas\n",
    "from dateutil.relativedelta import relativedelta\n",
    "import pandas as pd\n",
    "from datetime import date, timedelta\n",
    "from dateutil.relativedelta import relativedelta\n",
    "import datetime\n",
    "from datetime import date\n",
    "import numpy as np\n",
    "import math\n",
    "from emailer import Email, EmailLer\n",
    "from pretty_html_table import build_table\n",
    "from funcoes import CalculosRiscoPort"
   ]
  },
  {
   "cell_type": "code",
   "execution_count": 54,
   "id": "de1eab2e",
   "metadata": {},
   "outputs": [],
   "source": [
    "#Chama as classes do databases e as classes do funções data\n",
    "rel_off_p = off_Reliance('Primeny')\n",
    "rel_off_c = off_Reliance('Cubo')\n",
    "crm = Crm()\n",
    "bawm = Bawm()\n",
    "datas = FuncoesDatas()\n",
    "extrato = BaseExtrato()\n",
    "bds = BDS()\n",
    "fdt = FuncoesDatas()\n",
    "calc = CalculosRiscoPort(offshore = True)"
   ]
  },
  {
   "cell_type": "code",
   "execution_count": 55,
   "id": "da69c614",
   "metadata": {},
   "outputs": [],
   "source": [
    "def formatar(valor):\n",
    "    int_part, dec_part = format(valor, ',.2f').split('.')\n",
    "    return f\"{int_part.replace(',', '.')},{dec_part}\""
   ]
  },
  {
   "cell_type": "code",
   "execution_count": 56,
   "id": "7814d0db",
   "metadata": {},
   "outputs": [],
   "source": [
    "demanda = pd.read_excel('demanda cra BelaAgricola.xlsx')"
   ]
  },
  {
   "cell_type": "code",
   "execution_count": 57,
   "id": "4a17f0d4",
   "metadata": {},
   "outputs": [],
   "source": [
    "officers = demanda['Officer'].drop_duplicates()"
   ]
  },
  {
   "cell_type": "code",
   "execution_count": 58,
   "id": "4d3d30fc",
   "metadata": {},
   "outputs": [],
   "source": [
    "demanda['Financeiro']=demanda['Financeiro'].apply(lambda x : formatar(x))"
   ]
  },
  {
   "cell_type": "code",
   "execution_count": 60,
   "id": "931969a8",
   "metadata": {},
   "outputs": [
    {
     "name": "stdout",
     "output_type": "stream",
     "text": [
      "[Emailer]: Sending mail \"Demandas CRA BelaAgricola\" to ['tamara.alves@jbfo.com', 'portfolio@jbfo.com', 'luciene.venditti@juliusbaer.com', 'claudia.cagno@juliusbaer.com']\n",
      "[Emailer]: Sending mail \"Demandas CRA BelaAgricola\" to ['tamara.alves@jbfo.com', 'portfolio@jbfo.com', 'diana.silveira@juliusbaer.com', 'flavia.bruno@juliusbaer.com']\n",
      "[Emailer]: Sending mail \"Demandas CRA BelaAgricola\" to ['tamara.alves@jbfo.com', 'portfolio@jbfo.com', 'bruno.rebechi@juliusbaer.com', 'danilo.reis@juliusbaer.com', 'flavio.mascarenhas@juliusbaer.com']\n",
      "[Emailer]: Sending mail \"Demandas CRA BelaAgricola\" to ['tamara.alves@jbfo.com', 'portfolio@jbfo.com', 'danilo.reis@juliusbaer.com', 'greice.rabelo@juliusbaer.com']\n",
      "[Emailer]: Sending mail \"Demandas CRA BelaAgricola\" to ['tamara.alves@jbfo.com', 'portfolio@jbfo.com', 'carina.santos@juliusbaer.com', 'janpaula.brandao@juliusbaer.com']\n",
      "[Emailer]: Sending mail \"Demandas CRA BelaAgricola\" to ['tamara.alves@jbfo.com', 'portfolio@jbfo.com', 'roberto.cambur@juliusbaer.com', 'mara.santos@juliusbaer.com']\n",
      "[Emailer]: Sending mail \"Demandas CRA BelaAgricola\" to ['tamara.alves@jbfo.com', 'portfolio@jbfo.com', 'caroline.venturi@juliusbaer.com', 'kevin.ribeiro@juliusbaer.com']\n",
      "[Emailer]: Sending mail \"Demandas CRA BelaAgricola\" to ['tamara.alves@jbfo.com', 'portfolio@jbfo.com', 'caroline.venturi@juliusbaer.com', 'laura.correa@juliusbaer.com']\n",
      "[Emailer]: Sending mail \"Demandas CRA BelaAgricola\" to ['tamara.alves@jbfo.com', 'portfolio@jbfo.com', 'erica.brandao@juliusbaer.com', 'eduardo.cechinel@juliusbaer.com', 'lucia.penteado@juliusbaer.com']\n",
      "[Emailer]: Sending mail \"Demandas CRA BelaAgricola\" to ['tamara.alves@jbfo.com', 'portfolio@jbfo.com', 'vanessa.sato@juliusbaer.com', 'luciana.braga@juliusbaer.com']\n",
      "[Emailer]: Sending mail \"Demandas CRA BelaAgricola\" to ['tamara.alves@jbfo.com', 'portfolio@jbfo.com', 'flavia.suplicy@juliusbaer.com', 'luiz.campos@juliusbaer.com']\n",
      "[Emailer]: Sending mail \"Demandas CRA BelaAgricola\" to ['tamara.alves@jbfo.com', 'portfolio@jbfo.com', 'antonio.moraes@juliusbaer.com', 'matheus.petrone@juliusbaer.com']\n",
      "[Emailer]: Sending mail \"Demandas CRA BelaAgricola\" to ['tamara.alves@jbfo.com', 'portfolio@jbfo.com', 'antonio.moraes@juliusbaer.com', 'olavo.pereira@juliusbaer.com']\n",
      "[Emailer]: Sending mail \"Demandas CRA BelaAgricola\" to ['tamara.alves@jbfo.com', 'portfolio@jbfo.com', 'carina.santos@juliusbaer.com', 'patricia.bianchi@juliusbaer.com']\n",
      "[Emailer]: Sending mail \"Demandas CRA BelaAgricola\" to ['tamara.alves@jbfo.com', 'portfolio@jbfo.com', 'jessica.soares@juliusbaer.com', 'patricia.jajah@juliusbaer.com']\n",
      "[Emailer]: Sending mail \"Demandas CRA BelaAgricola\" to ['tamara.alves@jbfo.com', 'portfolio@jbfo.com', 'jessica.soares@juliusbaer.com', 'stefano.spada@juliusbaer.com', 'paulo.correa@juliusbaer.com']\n",
      "[Emailer]: Sending mail \"Demandas CRA BelaAgricola\" to ['tamara.alves@jbfo.com', 'portfolio@jbfo.com', 'rafael.pontes@juliusbaer.com', 'pedro.amado@juliusbaer.com']\n",
      "[Emailer]: Sending mail \"Demandas CRA BelaAgricola\" to ['tamara.alves@jbfo.com', 'portfolio@jbfo.com', 'bianca.renattini@juliusbaer.com', 'guilherme.matiolli@juliusbaer.com', 'marcela.freire@juliusbaer.com', 'renato.sapuppo@juliusbaer.com']\n",
      "[Emailer]: Sending mail \"Demandas CRA BelaAgricola\" to ['tamara.alves@jbfo.com', 'portfolio@jbfo.com', 'danilo.reis@juliusbaer.com', 'roberta.botelho@juliusbaer.com']\n",
      "[Emailer]: Sending mail \"Demandas CRA BelaAgricola\" to ['tamara.alves@jbfo.com', 'portfolio@jbfo.com', 'daianna.watanabe@juliusbaer.com', 'rosangela.browne@juliusbaer.com']\n",
      "[Emailer]: Sending mail \"Demandas CRA BelaAgricola\" to ['tamara.alves@jbfo.com', 'portfolio@jbfo.com', 'guilherme.matiolli@juliusbaer.com', 'diana.silveira@juliusbaer.com', 'bianca.renattini@juliusbaer.com', 'roberto.cambur@juliusbaer.com', 'silvia.pannuti@juliusbaer.com']\n",
      "[Emailer]: Sending mail \"Demandas CRA BelaAgricola\" to ['tamara.alves@jbfo.com', 'portfolio@jbfo.com', 'daniel.stockler@juliusbaer.com', 'simone.scivoletto@juliusbaer.com']\n",
      "[Emailer]: Sending mail \"Demandas CRA BelaAgricola\" to ['tamara.alves@jbfo.com', 'portfolio@jbfo.com', 'joao.este@juliusbaer.com', 'victoria.barros@juliusbaer.com']\n"
     ]
    }
   ],
   "source": [
    "for officer in officers:\n",
    "    df = demanda[demanda['Officer']==officer]\n",
    "    email_officer = df['EmailOfficer'].drop_duplicates()\n",
    "    email_officer=list(set(email_officer))\n",
    "    emails=df['EmailController'].drop_duplicates()\n",
    "    email=list(set(emails))\n",
    "    #df=df[['Titularidade','Financeiro','Quantidade','Controller','Officer']]\n",
    "    #emails = [x for x in emails if x is not None]\n",
    "    tbl1 = build_table(df,'blue_dark',text_align = 'center',width=\"300px\")\n",
    "    txt = f'''Prezados,<br>   \n",
    "        Prezados, abaixo seguem as demandas incluídas para o CRA BelaAgrícola CDI + 2.3%. Em anexo segue e-mail do time de crédito com maiores informações sobre o ativo.<br><br>\n",
    "        {tbl1}<br> \n",
    "        '''          \n",
    "    subject= f'Demandas CRA BelaAgricola'\n",
    "    to=['tamara.alves@jbfo.com','portfolio@jbfo.com']+email+email_officer\n",
    "    email = Email(to = to , subject = subject, text= txt,send = True)          "
   ]
  },
  {
   "cell_type": "code",
   "execution_count": 48,
   "id": "fd0b4667",
   "metadata": {},
   "outputs": [],
   "source": []
  }
 ],
 "metadata": {
  "kernelspec": {
   "display_name": "Python 3",
   "language": "python",
   "name": "python3"
  },
  "language_info": {
   "codemirror_mode": {
    "name": "ipython",
    "version": 3
   },
   "file_extension": ".py",
   "mimetype": "text/x-python",
   "name": "python",
   "nbconvert_exporter": "python",
   "pygments_lexer": "ipython3",
   "version": "3.8.8"
  }
 },
 "nbformat": 4,
 "nbformat_minor": 5
}
