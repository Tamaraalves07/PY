{
 "cells": [
  {
   "cell_type": "code",
   "execution_count": 1,
   "id": "2ac29ca7",
   "metadata": {},
   "outputs": [
    {
     "name": "stdout",
     "output_type": "stream",
     "text": [
      "[base_dados.py directory]: C:\\Temp\\Foundation\n",
      "[databases.py directory]: C:\\Temp\\Foundation\n"
     ]
    }
   ],
   "source": [
    "from databases import BDS,Crm,BDSMem,PosicaoDm1, Boletador,Bawm\n",
    "from datetime import date, datetime, timedelta\n",
    "from dateutil.relativedelta import relativedelta\n",
    "from funcoes_datas import FuncoesDatas\n",
    "import pandas as pd\n",
    "from emailer import Email, EmailLer\n",
    "from pretty_html_table import build_table\n",
    "import numpy as np"
   ]
  },
  {
   "cell_type": "code",
   "execution_count": 6,
   "id": "a169a94b",
   "metadata": {},
   "outputs": [],
   "source": [
    "##Puxa as classes do databases (consultas nas bases sql da empresa)\n",
    "crm = Crm()\n",
    "crm_fundos = Crm(load_cadfundos=True)\n",
    "bds = BDS()\n",
    "fdt = FuncoesDatas()\n",
    "bol = Boletador()\n",
    "posicao = PosicaoDm1\n",
    "bawm = Bawm()\n",
    "\n",
    "#retorna posição de todas as carteiras + fundos\n",
    "posicao = PosicaoDm1()\n",
    "\n",
    "#Retorna a data de hoje\n",
    "hoje = bds.banco.hoje()\n",
    "\n",
    "#Retorna as informações dos fundos\n",
    "fundos = crm_fundos.fundo_cadastro()\n",
    "\n",
    "#Retorna todos os produtos da casa\n",
    "#produtos= crm.product()\n",
    "\n",
    "#Retorna a data 1 do mes atual\n",
    "hoje = bds.banco.hoje()\n",
    "dia = hoje + relativedelta(months=-1)\n",
    "mes,ano = hoje.month,hoje.year\n",
    "\n",
    "#Traz o primeiro dia util do mes anterior\n",
    "data_inicial_bol = datetime(ano,mes,1)\n",
    "\n",
    "#Ativos da BAWM\n",
    "ativos = posicao.ativos_cadastro_po_ativos()\n"
   ]
  },
  {
   "cell_type": "code",
   "execution_count": 31,
   "id": "0b1f5c58",
   "metadata": {},
   "outputs": [],
   "source": [
    "produtos_crm = crm.produtos_gestao_jbfo()\n",
    "produtos_crm['productid'] = produtos_crm['productid'].str.lower()\n",
    "prod = pd.merge(left = produtos_crm, right=ativos, left_on='productid',right_on='GuidAtivo',how='left')"
   ]
  },
  {
   "cell_type": "code",
   "execution_count": 33,
   "id": "b721e7be",
   "metadata": {},
   "outputs": [],
   "source": [
    "prod.to_excel('verificar.xlsx')"
   ]
  },
  {
   "cell_type": "code",
   "execution_count": 44,
   "id": "18ee8d23",
   "metadata": {},
   "outputs": [
    {
     "data": {
      "text/plain": [
       "0               Outro\n",
       "1      FundoExclusivo\n",
       "2      FundoExclusivo\n",
       "3      FundoExclusivo\n",
       "4      FundoExclusivo\n",
       "            ...      \n",
       "811    FundoExclusivo\n",
       "812    FundoExclusivo\n",
       "813             Outro\n",
       "814                  \n",
       "815    FundoExclusivo\n",
       "Name: TipoCobranca, Length: 816, dtype: object"
      ]
     },
     "execution_count": 44,
     "metadata": {},
     "output_type": "execute_result"
    }
   ],
   "source": [
    "bawm.po_cadastro()['TipoCobranca']"
   ]
  },
  {
   "cell_type": "code",
   "execution_count": 38,
   "id": "9aceeebc",
   "metadata": {},
   "outputs": [
    {
     "data": {
      "text/plain": [
       "Index(['GuidContaCRM', 'NomeContaCRM', 'NomeSuperCarteiraCRM',\n",
       "       'GuidSuperCarteira', 'GuidCarteira', 'Tipo', 'Perfil', 'Officer',\n",
       "       'Controller', 'CodigoProduto', 'CNPJ', 'DataArquivo', 'Segmento',\n",
       "       'IdBDS', 'Manter', 'SCGestao', 'SCGestor', 'CartIdFonte', 'CartInSC',\n",
       "       'DiscricionarioInterClasse', 'DiscricionarioIntraClasse',\n",
       "       'DiscricionarioCredito', 'GestorNome', 'TipoCliente', 'ContratoSC',\n",
       "       'GuidGestor', 'TipoCobranca', 'TipoCondominio', 'ClassifExtrato',\n",
       "       'Espolio', 'PerfilInvNome', 'PerfilInv', 'SupercarteiraId',\n",
       "       'Titularidade', 'TitularidadeGuid', 'VetoPowerGestaoTatica',\n",
       "       'VetoPowerGestoresExternos', 'VetoPowerTitulosCredito',\n",
       "       'VetoPowerAcoes', 'DPM', 'DPMUsuarioU', 'DeputyDPM',\n",
       "       'DeputyDPMUsuarioU', 'DPMGestaoTatica', 'DPMGestoresExternos',\n",
       "       'DPMTitulosCredito', 'DPMAcoes', 'OfficerUsuarioU',\n",
       "       'ControllerUsuarioU', 'EstratInvOn', 'DataSuitability', 'ControllerBKP',\n",
       "       'ControllerBKPUsuarioU', 'PF', 'CoOfficer', 'NovoSuitability',\n",
       "       'CoOfficerUsuarioU', 'AdministradorGuid', 'Administrador',\n",
       "       'CustodianteGuid', 'Custodiante', 'ProdutoLiquidacaoGuid',\n",
       "       'ProdutoLiquidacao', 'UltPI', 'DataUltPI', 'ClienteINR'],\n",
       "      dtype='object')"
      ]
     },
     "execution_count": 38,
     "metadata": {},
     "output_type": "execute_result"
    }
   ],
   "source": [
    "bawm.po_cadastro().columns"
   ]
  }
 ],
 "metadata": {
  "kernelspec": {
   "display_name": "Python 3 (ipykernel)",
   "language": "python",
   "name": "python3"
  },
  "language_info": {
   "codemirror_mode": {
    "name": "ipython",
    "version": 3
   },
   "file_extension": ".py",
   "mimetype": "text/x-python",
   "name": "python",
   "nbconvert_exporter": "python",
   "pygments_lexer": "ipython3",
   "version": "3.9.12"
  }
 },
 "nbformat": 4,
 "nbformat_minor": 5
}
