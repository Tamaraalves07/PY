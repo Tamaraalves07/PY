{
 "cells": [
  {
   "cell_type": "code",
   "execution_count": 44,
   "id": "140742d4",
   "metadata": {},
   "outputs": [],
   "source": [
    "from databases import PosicaoDm1,Crm,BDS\n",
    "from funcoes_datas import FuncoesDatas\n",
    "import pandas as pd\n",
    "from datetime import datetime,date,timedelta\n",
    "from dateutil.relativedelta import relativedelta"
   ]
  },
  {
   "cell_type": "code",
   "execution_count": 45,
   "id": "cb111a48",
   "metadata": {},
   "outputs": [],
   "source": [
    "#Chamando as classesdo DataBases\n",
    "posicao = PosicaoDm1()\n",
    "crm= Crm()\n",
    "fdt = FuncoesDatas()\n",
    "bds = BDS()\n",
    "fdt = FuncoesDatas()\n",
    "\n",
    "#Definir os parametros de data do pickle\n",
    "\n",
    "data = bds.banco.hoje()\n",
    "data = data + relativedelta(months=-6)\n",
    "data = data - relativedelta(days=data.day -1)\n",
    "data = fdt.workday(data=data, n_dias=-1)\n",
    "\n",
    "hoje = fdt.hoje()\n",
    "\n",
    "#Trazer todos os produtos e suas indormações\n",
    "\n",
    "produtos = crm.rating_produtos()\n",
    "produtos['GuidProduto']=produtos['GuidProduto'].str.lower()\n",
    "\n",
    "#PUxar a posição 6 meses para trás\n",
    "#definir nome do arquivo pickle\n",
    "\n",
    "arquivo = str(data.year)+'-'+str(data.month)+'-'+str(data.day)\n",
    "\n",
    "try:\n",
    "    arquivo_fundos_ant = pd.read_pickle ('O:/SAO/CICH_All/Portfolio Management/Arquivos/Pickle/PosicaoDm1/df_fundos_' + arquivo)\n",
    "    arquivo_pf_ant = pd.read_pickle ('O:/SAO/CICH_All/Portfolio Management/Arquivos/Pickle/PosicaoDm1/df_tit_' + arquivo)\n",
    "    \n",
    "except:\n",
    "    arquivo_fundos_ant = pd.read_pickle ('O:/SAO/CICH_All/Portfolio Management/Arquivos/Pickle/PosicaoDm1/df_fundos_2023-12-26.pickle')\n",
    "    arquivo_pf_ant = pd.read_pickle ('O:/SAO/CICH_All/Portfolio Management/Arquivos/Pickle/PosicaoDm1/df_tit_2023-12-26.pickle')\n",
    "\n",
    "carteira_ant = pd.concat([arquivo_fundos_ant,arquivo_pf_ant]) \n",
    "carteira_ant['GuidProduto']= carteira_ant['GuidProduto'].str.lower()\n",
    "\n",
    "\n",
    "#Posicao em d1\n",
    "carteira_atual = posicao.posicao_total_depara(hoje)[['DataArquivo','NomeContaCRM','TipoProduto','GuidProduto','NomeProduto','QuantidadeFinal','FinanceiroFuturo']]\n",
    "carteira_atual=carteira_atual.sort_values(by=['NomeContaCRM','QuantidadeFinal','NomeProduto'])\n",
    "carteira_atual['GuidProduto']= carteira_atual['GuidProduto'].str.lower()"
   ]
  },
  {
   "cell_type": "code",
   "execution_count": 48,
   "id": "ec43733a",
   "metadata": {
    "scrolled": true
   },
   "outputs": [],
   "source": [
    "#verificar os produtos novos\n",
    "produtos_ant = carteira_ant[['GuidProduto','NomeProduto']].drop_duplicates()\n",
    "produtos_atual = carteira_atual[['GuidProduto','NomeProduto']].drop_duplicates()\n",
    "\n",
    "#Verificar produtos novos\n",
    "verificar = pd.merge(left= produtos_atual,right=produtos_ant ,on='GuidProduto',how='left')\n",
    "# verificar = verificar[verificar['NomeProduto_y'].isnull()]\n",
    "# verificar = pd.merge(left = verificar,right=produtos, on='GuidProduto',how='left')\n",
    "\n",
    "# #retirar caixa e compromissada da analise\n",
    "# analise = pd.merge(left = carteira_atual,right=verificar,on='GuidProduto',how='right')\n",
    "# analise = analise[(analise['TipoProduto']!='CAIXA')&(analise['TipoProduto']!='COMP')].drop(columns=['NomeProduto_x','NomeProduto_y','Ativo'])\n",
    "# analise['ISIN']=analise['ISIN'].str.lower()\n",
    "# analise['CETIP']=analise['CETIP'].str.lower()\n",
    "# analise = analise[(analise['Rating']!='Recomendado')].drop_duplicates()\n",
    "\n"
   ]
  },
  {
   "cell_type": "code",
   "execution_count": 49,
   "id": "17f84a57",
   "metadata": {},
   "outputs": [],
   "source": [
    "verificar.to_excel('ver.xlsx')"
   ]
  },
  {
   "cell_type": "code",
   "execution_count": 41,
   "id": "fe33022b",
   "metadata": {},
   "outputs": [
    {
     "name": "stderr",
     "output_type": "stream",
     "text": [
      "C:\\ProgramData\\Anaconda3\\lib\\site-packages\\openpyxl\\worksheet\\_reader.py:312: UserWarning: Data Validation extension is not supported and will be removed\n",
      "  warn(msg)\n",
      "<ipython-input-41-c025ad703322>:4: SettingWithCopyWarning: \n",
      "A value is trying to be set on a copy of a slice from a DataFrame.\n",
      "Try using .loc[row_indexer,col_indexer] = value instead\n",
      "\n",
      "See the caveats in the documentation: https://pandas.pydata.org/pandas-docs/stable/user_guide/indexing.html#returning-a-view-versus-a-copy\n",
      "  produtos_comite['Cetip/Isin/CNPJ']=produtos_comite['Cetip/Isin/CNPJ'].str.lower()\n"
     ]
    }
   ],
   "source": [
    "#Retorna os produtos aprovados no comite\n",
    "produtos_comite = pd.read_excel('O:/SAO/CICH_All/Investment Solutions/11. Comitê Exceção/Consolidado - Ativos Analisados v3.xlsx')\n",
    "produtos_comite = produtos_comite[produtos_comite['Deliberação'].str.contains('Zerar na origem')]\n",
    "produtos_comite['Cetip/Isin/CNPJ']=produtos_comite['Cetip/Isin/CNPJ'].str.lower()\n",
    "produtos_comite = produtos_comite.dropna(subset=['Cetip/Isin/CNPJ'])\n",
    "produtos_comite = produtos_comite[produtos_comite['On/Off']!='OFF']"
   ]
  },
  {
   "cell_type": "code",
   "execution_count": 39,
   "id": "fa619a0d",
   "metadata": {},
   "outputs": [],
   "source": [
    "#Filtrando tudo o que foi adquirido sem comite\n",
    "cnpj = pd.merge(left = produtos_comite,right=analise,left_on='Cetip/Isin/CNPJ',right_on='CNPJ',how='right')\n",
    "isin =  pd.merge(left = produtos_comite,right=analise,left_on='Cetip/Isin/CNPJ',right_on='ISIN',how='right')\n",
    "cetip = pd.merge(left = produtos_comite,right=analise,left_on='Cetip/Isin/CNPJ',right_on='ISIN',how='right')\n",
    "ativos_vender = pd.concat([cnpj,isin,cetip])\n",
    "ativos_vender=ativos_vender[ativos_vender['Cliente'].isnull()]\n",
    "ativos_vender = ativos_vender[['Data Comitê','Cliente','NomeContaCRM',\n",
    "       'NomeProduto','Deliberação','Observação', 'CAP', 'QuantidadeFinal', 'FinanceiroFuturo','ISIN',\n",
    "       'CETIP', 'CNPJ', 'emissor', 'comite', 'vencimento', 'Rating']].drop_duplicates()\n",
    "ativos_vender['Comitê']='Sem_aprovação'\n",
    "ativos_vender = ativos_vender[ativos_vender['NomeContaCRM'].str.contains(\"Monitorado\")== False].drop_duplicates()\n",
    "ativos_vender.to_excel('verificar.xlsx')\n"
   ]
  },
  {
   "cell_type": "code",
   "execution_count": 40,
   "id": "65eca19d",
   "metadata": {},
   "outputs": [],
   "source": [
    "#puzando a carteira recente\n",
    "carteira = pd.merge(left= carteira_atual,right=produtos ,on='GuidProduto',how='left')\n",
    "carteira = carteira[(carteira['TipoProduto']!='CAIXA')&(carteira['TipoProduto']!='COMP')]\n",
    "carteira['ISIN']=carteira['ISIN'].str.lower()\n",
    "carteira['CETIP']=carteira['CETIP'].str.lower()\n",
    "\n",
    "#cruzando os dados para encontrar o ativo na carteira\n",
    "cnpj = pd.merge(left = produtos_comite,right=carteira,left_on='Cetip/Isin/CNPJ',right_on='CNPJ',how='left')\n",
    "isin =  pd.merge(left = produtos_comite,right=carteira,left_on='Cetip/Isin/CNPJ',right_on='ISIN',how='left')\n",
    "cetip = pd.merge(left = produtos_comite,right=carteira,left_on='Cetip/Isin/CNPJ',right_on='CETIP',how='left')\n",
    "ativos_vender_comite = pd.concat([cnpj,isin,cetip])\n",
    "ativos_vender_comite=ativos_vender_comite[ativos_vender_comite['Ativo_y'].notnull()]\n",
    "ativos_vender_comite = ativos_vender_comite[['Data Comitê','Cliente','NomeContaCRM',\n",
    "       'NomeProduto','Deliberação','Observação', 'CAP', 'QuantidadeFinal', 'FinanceiroFuturo','ISIN',\n",
    "       'CETIP', 'CNPJ', 'emissor', 'comite', 'vencimento', 'Rating']].drop_duplicates()\n",
    "ativos_vender_comite['Comitê']='Aprovado comitê'"
   ]
  },
  {
   "cell_type": "code",
   "execution_count": 13,
   "id": "5a76484e",
   "metadata": {},
   "outputs": [],
   "source": [
    "ativos_n_aprovados = pd.concat([ativos_vender,ativos_vender_comite])"
   ]
  },
  {
   "cell_type": "code",
   "execution_count": 14,
   "id": "8554fc33",
   "metadata": {},
   "outputs": [],
   "source": [
    "ativos_n_aprovados.to_excel('verificar.xlsx')"
   ]
  }
 ],
 "metadata": {
  "kernelspec": {
   "display_name": "Python 3",
   "language": "python",
   "name": "python3"
  },
  "language_info": {
   "codemirror_mode": {
    "name": "ipython",
    "version": 3
   },
   "file_extension": ".py",
   "mimetype": "text/x-python",
   "name": "python",
   "nbconvert_exporter": "python",
   "pygments_lexer": "ipython3",
   "version": "3.8.8"
  }
 },
 "nbformat": 4,
 "nbformat_minor": 5
}
