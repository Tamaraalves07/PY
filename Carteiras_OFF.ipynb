{
 "cells": [
  {
   "cell_type": "code",
   "execution_count": 1,
   "id": "84785207",
   "metadata": {},
   "outputs": [
    {
     "name": "stdout",
     "output_type": "stream",
     "text": [
      "[base_dados.py directory]: C:\\Temp\\Foundation\n",
      "[databases.py directory]: C:\\Temp\\Foundation\n"
     ]
    }
   ],
   "source": [
    "from databases import BDS, PosicaoDm1, Bawm,Crm,BaseExtrato,off_Reliance\n",
    "from funcoes_datas import FuncoesDatas\n",
    "from dateutil.relativedelta import relativedelta\n",
    "import pandas as pd\n",
    "from datetime import date, timedelta\n",
    "from dateutil.relativedelta import relativedelta\n",
    "import datetime\n",
    "from datetime import date\n",
    "import numpy as np\n",
    "import math\n",
    "from emailer import Email, EmailLer\n",
    "from pretty_html_table import build_table\n",
    "from funcoes import CalculosRiscoPort"
   ]
  },
  {
   "cell_type": "code",
   "execution_count": 2,
   "id": "39e04071",
   "metadata": {},
   "outputs": [],
   "source": [
    "#Chama as classes do databases\n",
    "crm = Crm()\n",
    "bawm = Bawm()\n",
    "datas = FuncoesDatas()\n",
    "extrato = BaseExtrato()\n",
    "bds = BDS()\n",
    "fdt = FuncoesDatas()\n",
    "rel_off = off_Reliance('Primeny')\n"
   ]
  },
  {
   "cell_type": "code",
   "execution_count": 3,
   "id": "df369c53",
   "metadata": {},
   "outputs": [],
   "source": [
    "##Informações necessárias para rodar a otimização das carteiras- gerar as movimentações\n",
    "\n",
    "#Tabela com as informações das SC de gestão offshore (nomes, responsáveis e perfil de cada cliente)\n",
    "po_cadastro = bawm.po_cadastro_all().drop(columns=['CodigoProduto'])\n",
    "\n",
    "#Puxa da PO_Cadastro os responsaveis por cada supercarteira de gestão (DPMS)\n",
    "\n",
    "#Lista com os usuários e emails de toda Julius Baer Brazil.\n",
    "emails_usuarios = crm.lista_usuarios_u()\n",
    "\n",
    "#Verificar os responsaveis por cada sc de gestão com base no mapa de ativos\n",
    "responsaveis = pd.read_excel('O:/SAO/CICH_All/Portfolio Management/20 - Offshore\\Mapa de Ativos/Mapa JBFO_v2.xlsx',sheet_name='Sheet1')\n",
    "responsaveis = responsaveis[(responsaveis['Origem']=='Offshore')& (responsaveis['Tipo de Contrato']!='Distrato em Andamento')][['Conta','SC/ContaMov','RM','Co-RM','Controller','Controller Backup','Segmentação']]\n",
    "\n",
    "#Altera os usuários u para letra minúscula para padronização (será usado no envio de e-mail)\n",
    "responsaveis['RM'] =responsaveis['RM'].str.lower()\n",
    "responsaveis['Co-RM'] =responsaveis['Co-RM'].str.lower()\n",
    "responsaveis['Controller'] = responsaveis['Controller'].str.lower()\n",
    "responsaveis['Controller Backup'] = responsaveis['Controller Backup'].str.lower()\n",
    "#responsaveis['DeputyDPMUsuarioU'] = responsaveis['DeputyDPMUsuarioU'].str.lower()\n"
   ]
  },
  {
   "cell_type": "code",
   "execution_count": 4,
   "id": "85842324",
   "metadata": {},
   "outputs": [],
   "source": [
    "# Última data do mes anterior para rodar a query do extrato\n",
    "data = bds.banco.hoje()\n",
    "data = datetime.datetime.date(data)\n",
    "\n",
    "#Traz a alocação ideal por perfil de portfolio\n",
    "alocacao_por_sc = crm.alocacao_ideial_off()\n",
    "\n",
    "#Traz os fundos da JBFO (prioridade na aplicação das movimentações)\n",
    "fundos_jbfo = pd.read_excel('O:/SAO/CICH_All/Portfolio Management/20 - Offshore/De Para Ativos.xlsx',sheet_name='Fundos_Casa')\n",
    "fundos_jbfo = fundos_jbfo[['NomeDoProduto','CodigoProduto','Classificação']]\n",
    "fundos_jbfo['Fundo']=fundos_jbfo['NomeDoProduto'].str.lower()\n",
    "\n",
    "#de_paras de mandatos (PI anterior para a atual - equivalência)\n",
    "mandatos = pd.read_excel('O:/SAO/CICH_All/Portfolio Management/20 - Offshore/De Para Ativos.xlsx',sheet_name='de_para_mandato')\n",
    "mandatos = mandatos[['Anterior','Novo']]\n",
    "#mandatos = dict(mandatos.values)\n",
    "    \n",
    "#Traz os deparas de classificação gps para classes de asset Allocation.\n",
    "dicio_classificacoes = pd.read_excel('O:/SAO/CICH_All/Portfolio Management/20 - Offshore/De Para Ativos.xlsx',sheet_name='de_para_classificao')\n",
    "dicio_classificacoes=dicio_classificacoes[['Classificação GPS','De Para - Asset Allocation']]\n",
    "dicio_classificacoes = dict(dicio_classificacoes.values)\n",
    "\n",
    "#Novos mandatos - Pontos Táticos\n",
    "novos_mandatos = pd.read_excel('O:/SAO/CICH_All/Portfolio Management/20 - Offshore/De Para Ativos.xlsx',sheet_name='Novos_mandatos')\n",
    "novos_mandatos= novos_mandatos[['Portfolio','Classe','Tático']]\n",
    "\n",
    "#Clientes que estão em distrato\n",
    "distrato = crm.clientes_em_distrato_off()\n",
    "\n",
    "#Trazer os produtos GPS e segregar o que é imobiliario (caso precise segregar o que é Reits / ILiquidos)\n",
    "produtos_gps = crm.produtos_off()\n",
    "produtos_gps =produtos_gps[['name','new_idmysql','new_tickerid','new_isin','new_idbds','new_idsistemaorigem','new_indgroupaxysidname','transactioncurrencyidname']].rename(columns={'name':'Ativo','new_idmysql':'IdMysqlProduto','new_tickerid':'Ticker','new_isin':'ISIN','new_idsistemaorigem':'CodigoProduto','transactioncurrencyidname':'Moeda'}).reset_index()\n",
    "produtos_gps['ISIN'] = produtos_gps['ISIN'].str.lower()\n",
    "\n",
    "#Retorna o nome dos veiculos que fazemos gestao (substituindo a classe JBFO)\n",
    "dicio_veiculos = dict(pd.read_excel('O:/SAO/CICH_All/Portfolio Management/20 - Offshore/De Para Ativos.xlsx',sheet_name='Fundos_Casa')[['Classe','Veiculo Abreviado']].drop_duplicates().values)\n",
    "\n"
   ]
  },
  {
   "cell_type": "code",
   "execution_count": 5,
   "id": "a050ab7b",
   "metadata": {},
   "outputs": [],
   "source": [
    "#Funções usadas na otimização de carteiras\n",
    "\n",
    "#Retira espaços inúteis\n",
    "def arruma_espaco(x):\n",
    "    while x[-1]==' ':\n",
    "        x=x[:-1]\n",
    "    return x    \n",
    "    \n",
    "#Formatar valor para envio de e-mail\n",
    "def formatar(valor):\n",
    "    int_part, dec_part = format(valor, ',.2f').split('.')\n",
    "    return f\"{int_part.replace(',', '.')},{dec_part}\"\n",
    "\n",
    "#Trazer pu do BDS (ainda não usado)\n",
    "def trazer_pu_atual(id_serie):\n",
    "    try:\n",
    "        df = bds.serie_historico(idserie=id_serie, intervalo=1)\n",
    "        if df.empty:\n",
    "            df = bds.serie_historico(idserie=id_serie, intervalo=4)\n",
    "            cota = df.iloc[-1,5]\n",
    "            ultima_data = df.iloc[-1,3]\n",
    "            ultima_data =datetime.datetime.date(ultima_data)          \n",
    "        else:\n",
    "            df = bds.serie_historico(idserie=id_serie, intervalo=1)\n",
    "            cota = df.iloc[-1,5]\n",
    "            ultima_data = df.iloc[-1,3]\n",
    "            ultima_data =datetime.datetime.date(ultima_data)\n",
    "    except:\n",
    "        cota=np.nan\n",
    "        ultima_data = np.nan\n",
    "    return cota, ultima_data    \n",
    "\n",
    "#Função que identifica clientes inativos\n",
    "def inativo(x):\n",
    "    x = x.replace('(','').replace(')','')\n",
    "    x = x.replace(' ','')\n",
    "    x = x.strip()\n",
    "    if 'inativ' in x.lower():\n",
    "        valor='inativo'\n",
    "    else:\n",
    "        valor='ok'\n",
    "    return valor   "
   ]
  },
  {
   "cell_type": "code",
   "execution_count": 6,
   "id": "26da1702",
   "metadata": {},
   "outputs": [],
   "source": [
    "#Consolida a posição atual versus a ideial\n",
    "alocacao_por_sc = pd.pivot_table(data=alocacao_por_sc, values = 'new_percentual',columns=['new_classedeinvestimentoidname'],index=['new_name','new_conta_supercarteiraidname','new_politicadeinvestimentoidname']).reset_index()\n",
    "alocacao_por_sc['new_name']=alocacao_por_sc['new_name'].str.lower()\n",
    "alocacao_por_sc = pd.merge(left = alocacao_por_sc, right = po_cadastro,left_on ='new_conta_supercarteiraidname',right_on = 'NomeSuperCarteiraCRM',how='left')\n",
    "alocacao_por_sc['inativo']=alocacao_por_sc['new_name'].apply(lambda x: inativo(x))\n",
    "alocacao_por_sc=alocacao_por_sc[alocacao_por_sc['inativo']!='inativo']\n",
    "alocacao_por_sc = alocacao_por_sc[['new_name','new_conta_supercarteiraidname','Alt Crédito', 'Alt Multistr','Alt RV L/S', 'Alt Trad/Macro', 'Alt Valor Rel', 'Commodities','Imobiliário', 'Outros', 'P. Equity', 'RF CP', 'RF Glob', 'RF Infl','RF Livre -', 'RF Outros -', 'RV', 'RV Outros -','new_politicadeinvestimentoidname','Titularidade','VetoPowerGestaoTatica','DPM','OfficerUsuarioU','ControllerUsuarioU']].reset_index(drop=True)"
   ]
  },
  {
   "cell_type": "code",
   "execution_count": 7,
   "id": "43589c0b",
   "metadata": {},
   "outputs": [],
   "source": [
    "##Traz a posição do último extrato gerado\n",
    "\n",
    "#Retorna o último dia do mes\n",
    "ultimo_extrato = data - relativedelta(days=data.day -1)\n",
    "ultimo_extrato = ultimo_extrato + timedelta(days = -1)\n",
    "\n",
    "#Gera a carteira da primeira sc da lista\n",
    "teste = alocacao_por_sc.drop_duplicates()\n",
    "sc = teste.iloc[0,0]\n",
    "sc = '@5AGL1'\n",
    "df = extrato.posicao_extrato(sc,ultimo_extrato)\n",
    "\n",
    "#Se o extrato não foi processado no último dia do mês, trazer o último disponível\n",
    "if df.empty:\n",
    "    ultimo_extrato = ultimo_extrato - relativedelta(days=ultimo_extrato.day -1)\n",
    "    ultimo_extrato = ultimo_extrato + timedelta(days = -1)\n",
    "else:\n",
    "    ultimo_extrato = ultimo_extrato\n",
    "\n",
    "    \n",
    "#Gerar a carteira de todas as sc de gestão - portfólios padrão\n",
    "for i,(index,row) in enumerate(teste.iterrows()):\n",
    "     if i >0 :\n",
    "            ultimo_extrato = data\n",
    "            ultimo_extrato = ultimo_extrato - relativedelta(days=ultimo_extrato.day -1)\n",
    "            ultimo_extrato = ultimo_extrato + timedelta(days = -1)            \n",
    "            sc = row['new_name']\n",
    "            df1 = extrato.posicao_extrato(sc,ultimo_extrato)\n",
    "            if df1.empty:\n",
    "                ultimo_extrato = ultimo_extrato - relativedelta(days=ultimo_extrato.day -1)\n",
    "                ultimo_extrato = ultimo_extrato + timedelta(days = -1)\n",
    "            else:\n",
    "                ultimo_extrato = data\n",
    "                ultimo_extrato = ultimo_extrato - relativedelta(days=ultimo_extrato.day -1)\n",
    "                ultimo_extrato = ultimo_extrato + timedelta(days = -1)\n",
    "                ultimo_extrato\n",
    "\n",
    "            df1 = extrato.posicao_extrato(sc,ultimo_extrato)\n",
    "            df1['data_ultimo_extrato']=ultimo_extrato          \n",
    "            df = pd.concat([df,df1])\n",
    "\n",
    "#Mapeando as informações da base GPS e linkando com os produtos da base (classificação, isin e ticker do CRM).\n",
    "\n",
    "#Carteira GPS\n",
    "carteira_gps = df\n",
    "carteira_gps=pd.merge(left=carteira_gps,right=produtos_gps,on='IdMysqlProduto',how='left')"
   ]
  },
  {
   "cell_type": "code",
   "execution_count": 8,
   "id": "6a9dffca",
   "metadata": {},
   "outputs": [
    {
     "data": {
      "text/plain": [
       "datetime.date(2024, 10, 31)"
      ]
     },
     "execution_count": 8,
     "metadata": {},
     "output_type": "execute_result"
    }
   ],
   "source": [
    "ultimo_extrato"
   ]
  },
  {
   "cell_type": "code",
   "execution_count": 9,
   "id": "e390e736",
   "metadata": {},
   "outputs": [
    {
     "data": {
      "text/plain": [
       "'@7tdt2'"
      ]
     },
     "execution_count": 9,
     "metadata": {},
     "output_type": "execute_result"
    }
   ],
   "source": [
    "sc"
   ]
  },
  {
   "cell_type": "code",
   "execution_count": 10,
   "id": "7be5c01a",
   "metadata": {},
   "outputs": [],
   "source": [
    "#Carteira GPS\n",
    "carteira_gps = df\n",
    "carteira_gps=pd.merge(left=carteira_gps,right=produtos_gps,on='IdMysqlProduto',how='left')"
   ]
  },
  {
   "cell_type": "code",
   "execution_count": 11,
   "id": "3836d124",
   "metadata": {},
   "outputs": [],
   "source": [
    "carteira_gps.to_excel('carteira_off.xlsx')"
   ]
  },
  {
   "cell_type": "code",
   "execution_count": 12,
   "id": "d8446cf3",
   "metadata": {},
   "outputs": [],
   "source": [
    "#Levantamento da quantidade de bonds diretos\n",
    "\n",
    "bonds = df[df['TipoProduto']=='Bond']\n",
    "bonds = bonds[~bonds['NomeDoProduto'].str.contains('Treasury')]\n",
    "bonds = bonds[~bonds['NomeDoProduto'].str.contains('US TIPS')]\n",
    "bonds = bonds[~bonds['NomeDoProduto'].str.contains('Cash Account')]"
   ]
  },
  {
   "cell_type": "code",
   "execution_count": 13,
   "id": "e42a6244",
   "metadata": {},
   "outputs": [],
   "source": [
    "#Fazer a conciliação de contas\n",
    "conciliacao = df[['NomeContaCrm','NomeSupercarteiraCrm']].drop_duplicates()\n",
    "conciliacao=conciliacao['NomeSupercarteiraCrm'].str.lower()\n",
    "todas_sc = alocacao_por_sc[['new_name','new_conta_supercarteiraidname']].drop_duplicates()\n",
    "conciliacao = pd.merge(left=conciliacao, right=todas_sc,left_on='NomeSupercarteiraCrm',right_on='new_name',how='right')\n",
    "conciliacao = conciliacao[conciliacao['NomeSupercarteiraCrm'].isnull()]\n",
    "conciliacao.to_excel('conciliacao.xlsx')"
   ]
  },
  {
   "cell_type": "code",
   "execution_count": 14,
   "id": "e67b7748",
   "metadata": {
    "scrolled": true
   },
   "outputs": [],
   "source": [
    "#Ajustes nas - futuratmente tirar colunas inúteis\n",
    "carteira_gps = carteira_gps[['DataPosicao','NomeSupercarteiraCrm','NomeContaCrm','NomeDoProduto','CodigoProduto_x','ISIN','QuantidadeCotas','ValorCota','SaldoNaData','Moeda_x','Classe', 'Subclasse']].rename(columns={'DataPosicao':'Data_Posicao','NomeContaCrm':'Nome_Cliente','NomeDoProduto':'Nome_produto','QuantidadeCotas':'quantidade','ValorCota':'PU','CodigoProduto_x':'CodigoProduto','Moeda_x':'Moeda'})\n",
    "carteira_gps['Esteira']='ex-Gps'\n",
    "carteira_gps['Nome_produto']=carteira_gps['Nome_produto'].str.lower().apply(lambda x: arruma_espaco(x))\n"
   ]
  },
  {
   "cell_type": "code",
   "execution_count": 16,
   "id": "e8069c89",
   "metadata": {},
   "outputs": [],
   "source": [
    "#Concatenando as carteiras com a custódia - GPS\n",
    "\n",
    "sc_axys =  crm.axys__sc()\n",
    "prod_axys = crm.ays_produtos()\n",
    "\n",
    "import os\n",
    "caminho = \"I:/Shared/Processamento_Conciliacao_Offshore/CARTEIRAS/AXYS/\"\n",
    "lista_arquivos = os.listdir(caminho)\n",
    "    \n",
    "lista_datas = []\n",
    "for arquivo in lista_arquivos:\n",
    "# descobrir a data desse arquivo\n",
    "    if \".xlsm\" in arquivo:\n",
    "        datas = os.path.getmtime(f\"{caminho}/{arquivo}\")\n",
    "        lista_datas.append((datas, arquivo))    \n",
    "        lista_datas.sort(reverse=True)\n",
    "        ultimo_arquivo = lista_datas[0]\n",
    "        ultimo_arquivo = ultimo_arquivo[1].replace('~$','')\n",
    "custodias = pd.read_excel(caminho+ultimo_arquivo,sheet_name = 'Axys',header = None)\n",
    "colunas = custodias.iloc[1]\n",
    "custodias.columns = colunas\n",
    "custodias = custodias.drop(index=[0,1])\n",
    "custodias = custodias[['Portfólio','Security Simbol','Banco']]\n",
    "colunas = custodias.columns\n",
    "custodias[colunas] = custodias[colunas].apply(lambda x: x.str.replace(',', '.').astype('str'))\n",
    "custodias = pd.merge(left =custodias,right=sc_axys,left_on='Portfólio',right_on='new_name',how='left').drop(index=[0,1]).drop(columns={'new_name','Portfólio'})[['new_supercarteiraoriginadoraidname','Security Simbol','Banco']]\n",
    "custodias = pd.merge(left =custodias,right=prod_axys,left_on='Security Simbol',right_on='new_axyssecuritysymbol',how='left')\n",
    "carteira_gps = pd.merge(left =carteira_gps,right=custodias,left_on=['NomeSupercarteiraCrm','CodigoProduto'],right_on=['new_supercarteiraoriginadoraidname','new_idsistemaorigem'],how='left').drop(columns={'new_supercarteiraoriginadoraidname','Security Simbol','name','new_idsistemaorigem','new_axyssecuritysymbol'}).rename(columns={'productid':'guidproduto','Banco':'Custódia'})"
   ]
  },
  {
   "cell_type": "code",
   "execution_count": 24,
   "id": "10186f68",
   "metadata": {
    "scrolled": true
   },
   "outputs": [],
   "source": [
    "#Trazer a carteira da Reliance\n",
    "\n",
    "#Retorna todos os produtos base Reliance\n",
    "produtos_gestao = rel_off.buscar_fundos_jbfo()\n",
    "\n",
    "#Traz a recomendação de portfolio por cliente\n",
    "recomendacao = pd.read_excel('port_rec.xlsx')\n",
    "recomendacao = recomendacao[['Cliente','Mandato_Recomendado']]\n",
    "\n",
    "#Puxando a ultima data do mes anterior para calculo do extrato\n",
    "data_rel_cart = datetime.datetime.date(fdt.hoje() - relativedelta(days=fdt.hoje().day -1)+timedelta(days=-2))\n",
    "\n",
    "# #Mapeando as informações da base Reliance e linkando com os produtos da base (classificação, isin e ticker do CRM).\n",
    "\n",
    "#Trazer a última posição disponivel (mes anterior)\n",
    "carteira_rel = rel_off.carteira_reliance(data_rel_cart)\n",
    "trazer_data = datetime.datetime.date(carteira_rel['calculado_em'].max())\n",
    "carteira_rel['calculado_em'] = carteira_rel['calculado_em'].apply(lambda x : datetime.datetime.date(x))\n",
    "carteira_rel = carteira_rel[carteira_rel['calculado_em'] == trazer_data].rename(columns= {'asset_class':'Subclasse','moeda':'Moeda'}).drop(columns={'Subcategoria'})\n",
    "carteira_rel = carteira_rel[~(carteira_rel['Nome_produto'].str.contains('FWD'))&(carteira_rel['SaldoNaData']>=0)].drop(columns={'calculado_em'})\n",
    "\n",
    "#Incluir os daldos na composição da carteira\n",
    "saldos = rel_off.buscar_saldos()\n",
    "\n",
    "saldos['ISIN'] = 'caixa'\n",
    "saldos = saldos[['Data_Posicao', 'Nome_Cliente', 'cd_security', 'ISIN','Nome_produto', 'Classe', 'Subclasse', 'quantidade','PU', 'cotacao', 'SaldoNaData', 'Moeda']]\n",
    "\n",
    "#Concatenando as carteiras com saldos\n",
    "carteira_rel = pd.concat([carteira_rel,saldos]).sort_values(by=['Nome_Cliente'])\n",
    "\n",
    "#Ajuste da Classe para padrão GPS\n",
    "classes_padrao = pd.read_excel('classificacao.xlsx')[['ID_Produto','cd_asset_class_name']]\n",
    "carteira_rel = pd.merge(left = carteira_rel, right=classes_padrao,left_on='cd_security', right_on='ID_Produto', how='left')\n",
    "carteira_rel['Classe'] = carteira_rel['cd_asset_class_name']\n",
    "carteira_rel = carteira_rel.drop(columns={'ID_Produto','cd_asset_class_name'})\n",
    "\n",
    "#Remover todos os valores iguais a 0\n",
    "\n",
    "carteira_rel = carteira_rel.dropna(subset=['SaldoNaData'])\n",
    "\n",
    "#Ajusta as colunas\n",
    "carteira_rel['NomeSupercarteiraCrm'] = carteira_rel['Nome_Cliente']\n",
    "carteira_rel['Esteira'] = 'ex-Reliance'\n",
    "carteira_rel['CodigoProduto'] = carteira_rel['cd_security'].astype('str') \n",
    "carteira_rel = carteira_rel.rename(columns={'moeda':'Moeda'})\n",
    "carteira_rel = carteira_rel[['Data_Posicao', 'NomeSupercarteiraCrm', 'Nome_Cliente', 'Nome_produto','CodigoProduto', 'ISIN', 'quantidade', 'PU', 'SaldoNaData', 'Moeda','Classe', 'Subclasse', 'Esteira']]\n"
   ]
  },
  {
   "cell_type": "code",
   "execution_count": 37,
   "id": "4d8ed8fa",
   "metadata": {},
   "outputs": [
    {
     "ename": "NameError",
     "evalue": "name 'file' is not defined",
     "output_type": "error",
     "traceback": [
      "\u001b[1;31m---------------------------------------------------------------------------\u001b[0m",
      "\u001b[1;31mNameError\u001b[0m                                 Traceback (most recent call last)",
      "Input \u001b[1;32mIn [37]\u001b[0m, in \u001b[0;36m<cell line: 1>\u001b[1;34m()\u001b[0m\n\u001b[1;32m----> 1\u001b[0m pd\u001b[38;5;241m.\u001b[39mread_excel(\u001b[43mfile\u001b[49m\u001b[38;5;241m.\u001b[39mread(caminho\u001b[38;5;241m+\u001b[39multimo_arquivo))\n",
      "\u001b[1;31mNameError\u001b[0m: name 'file' is not defined"
     ]
    }
   ],
   "source": [
    "pd.read_excel(file.read(caminho+ultimo_arquivo))"
   ]
  },
  {
   "cell_type": "code",
   "execution_count": 43,
   "id": "53884252",
   "metadata": {},
   "outputs": [],
   "source": [
    "#Concatenando as carteiras com a custódia da Reliance\n",
    "\n",
    "import os\n",
    "caminho = \"I:/Shared/Processamento_Conciliacao_Offshore/CARTEIRAS/SIS INTERNACIONAL/\"\n",
    "lista_arquivos = os.listdir(caminho)\n",
    "    \n",
    "lista_datas = []\n",
    "for arquivo in lista_arquivos:\n",
    "# descobrir a data desse arquivo\n",
    "    if \".xls\" in arquivo:\n",
    "        datas = os.path.getmtime(f\"{caminho}/{arquivo}\")\n",
    "        lista_datas.append((datas, arquivo))    \n",
    "        lista_datas.sort(reverse=True)\n",
    "        ultimo_arquivo = lista_datas[0]\n",
    "        ultimo_arquivo = ultimo_arquivo[1].replace('~$','')\n",
    "custodias = pd.read_excel(caminho+ultimo_arquivo,header = None)\n",
    "colunas = custodias.iloc[0]\n",
    "custodias.columns = colunas\n",
    "custodias = custodias.drop(index=[0])\n",
    "custodias = custodias[['CLIENTE','ATIVO','cd_security','INSTITUIÇÃO']]\n",
    "colunas = custodias.columns\n",
    "custodias[colunas] = custodias[colunas].apply(lambda x: x.replace(',', '.').astype('str'))\n",
    "carteira_rel = pd.merge(left =carteira_rel,right=custodias,left_on=['NomeSupercarteiraCrm','CodigoProduto'],right_on=['CLIENTE','cd_security'],how='left').drop(columns={'CLIENTE','ATIVO','cd_security'}).rename(columns ={'INSTITUIÇÃO':'Custódia'})\n",
    "carteira_rel['guidproduto'] = 'Rel '+ carteira_rel['CodigoProduto']"
   ]
  },
  {
   "cell_type": "code",
   "execution_count": 44,
   "id": "db40ae69",
   "metadata": {},
   "outputs": [],
   "source": [
    "carteira_jbfo = pd.concat([carteira_rel,carteira_gps])\n",
    "carteira_custodia = carteira_jbfo.to_excel('O:/SAO/CICH_All/Investment Solutions/12. First Line of Defense/Códigos/Carteiras OFF/carteira_jbfo.xlsx')"
   ]
  }
 ],
 "metadata": {
  "kernelspec": {
   "display_name": "Python 3 (ipykernel)",
   "language": "python",
   "name": "python3"
  },
  "language_info": {
   "codemirror_mode": {
    "name": "ipython",
    "version": 3
   },
   "file_extension": ".py",
   "mimetype": "text/x-python",
   "name": "python",
   "nbconvert_exporter": "python",
   "pygments_lexer": "ipython3",
   "version": "3.9.12"
  }
 },
 "nbformat": 4,
 "nbformat_minor": 5
}
