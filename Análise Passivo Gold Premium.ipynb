{
 "cells": [
  {
   "cell_type": "code",
   "execution_count": 1,
   "id": "360cdbd2",
   "metadata": {},
   "outputs": [
    {
     "name": "stdout",
     "output_type": "stream",
     "text": [
      "[base_dados.py directory]: C:\\Temp\\Foundation\n",
      "[databases.py directory]: C:\\Temp\\Foundation\n"
     ]
    }
   ],
   "source": [
    "from databases import BDS,Crm,BDSMem,PosicaoDm1, Boletador\n",
    "from datetime import date, datetime, timedelta\n",
    "from dateutil.relativedelta import relativedelta\n",
    "from funcoes_datas import FuncoesDatas\n",
    "import pandas as pd\n",
    "from emailer import Email, EmailLer\n",
    "from pretty_html_table import build_table\n",
    "import re"
   ]
  },
  {
   "cell_type": "code",
   "execution_count": 53,
   "id": "28b8ba22",
   "metadata": {},
   "outputs": [],
   "source": [
    "##Puxa as classes do databases (consultas nas bases sql da empresa)\n",
    "crm = Crm()\n",
    "crm_fundos = Crm(load_cadfundos=True)\n",
    "bds = BDS()\n",
    "fdt = FuncoesDatas()\n",
    "bol = Boletador()\n",
    "posicao = PosicaoDm1\n",
    "\n",
    "#retorna posição de todas as carteiras + fundos\n",
    "posicao = PosicaoDm1()\n",
    "\n",
    "#Retorna o publico alvo dos fundos\n",
    "publico_alvo = crm. publico_alvo_fundo().rename(columns={'new_cnpj':'CNPJ'})\n",
    "publico_alvo['CNPJ'] = publico_alvo['CNPJ'].astype('str')\n",
    "publico_alvo['CNPJ']  = publico_alvo['CNPJ'].apply(lambda x : re.sub('[^0-9]', '',x))\n",
    "\n",
    "#Retorna a PO_Cadastro\n",
    "cadastro= posicao.po_cadastro()[['GuidContaCRM','CNPJ']]\n",
    "cadastro['CNPJ'] = cadastro['CNPJ'].astype('str')\n",
    "\n",
    "#Fundos exclusivos que possuem o Gold Premium\n",
    "posicao_fundos = posicao.posicao_fundos_all(hoje, apenas_exclusivos=False)\n",
    "gold_premium = posicao_fundos[posicao_fundos['GuidProduto']=='d037e458-0a0d-e011-a374-d8d385b9752e']\n",
    "gold_premium = gold_premium[['GuidContaCRM','NomeContaCRM','FinanceiroFinal']]\n",
    "\n",
    "#Fazer o merge\n",
    "\n",
    "gold_premium = pd.merge(left=gold_premium,right=cadastro,on='GuidContaCRM',how='left')\n",
    "\n",
    "#LInkar com o publico alvo\n",
    "\n",
    "gold_premium = pd.merge(left=gold_premium,right=publico_alvo,on='CNPJ',how='left')\n",
    "\n",
    "#PL do Gold\n",
    "PL = 167403907.55"
   ]
  },
  {
   "cell_type": "code",
   "execution_count": 62,
   "id": "85051e21",
   "metadata": {},
   "outputs": [],
   "source": [
    "gold_premium= gold_premium[['NomeContaCRM','FinanceiroFinal','new_publicoalvoname']]\n",
    "gold_premium['%'] = gold_premium['FinanceiroFinal'] / PL\n",
    "verificar_qualificados = gold_premium.groupby(['new_publicoalvoname']).sum().reset_index()"
   ]
  },
  {
   "cell_type": "code",
   "execution_count": 38,
   "id": "64e95a7d",
   "metadata": {},
   "outputs": [
    {
     "data": {
      "text/plain": [
       "'01753087000130'"
      ]
     },
     "execution_count": 38,
     "metadata": {},
     "output_type": "execute_result"
    }
   ],
   "source": [
    "b = '01.753.087/0001-30'\n",
    "re.sub('[^0-9]', '',b)"
   ]
  }
 ],
 "metadata": {
  "kernelspec": {
   "display_name": "Python 3",
   "language": "python",
   "name": "python3"
  },
  "language_info": {
   "codemirror_mode": {
    "name": "ipython",
    "version": 3
   },
   "file_extension": ".py",
   "mimetype": "text/x-python",
   "name": "python",
   "nbconvert_exporter": "python",
   "pygments_lexer": "ipython3",
   "version": "3.8.8"
  }
 },
 "nbformat": 4,
 "nbformat_minor": 5
}
