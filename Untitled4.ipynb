{
 "cells": [
  {
   "cell_type": "code",
   "execution_count": 1,
   "id": "62bd5ab7",
   "metadata": {},
   "outputs": [
    {
     "name": "stdout",
     "output_type": "stream",
     "text": [
      "[base_dados.py directory]: C:\\Temp\\Foundation\n",
      "[databases.py directory]: C:\\Temp\\Foundation\n"
     ]
    }
   ],
   "source": [
    "import pyodbc\n",
    "from datetime import date, datetime, timedelta\n",
    "import pandas as pd\n",
    "import win32com.client as win32\n",
    "from databases import Bawm, Crm,PosicaoDm1Pickle, BDS, CVM\n",
    "from funcoes_datas import FuncoesDatas\n",
    "import os\n",
    "import numpy as np\n",
    "import xlwings as xw\n",
    "import unicodedata\n",
    "from itertools import zip_longest"
   ]
  },
  {
   "cell_type": "code",
   "execution_count": 4,
   "id": "c3474512",
   "metadata": {},
   "outputs": [],
   "source": [
    "fdt = FuncoesDatas()\n",
    "crm = Crm()\n",
    "bds = BDS()\n",
    "cvm = CVM()\n",
    "dm1 = PosicaoDm1Pickle()"
   ]
  },
  {
   "cell_type": "code",
   "execution_count": 11,
   "id": "44a255ae",
   "metadata": {},
   "outputs": [],
   "source": [
    "produtos = crm.product()"
   ]
  },
  {
   "cell_type": "code",
   "execution_count": 13,
   "id": "ad91618d",
   "metadata": {},
   "outputs": [],
   "source": [
    "produtos =produtos.reset_index()"
   ]
  },
  {
   "cell_type": "code",
   "execution_count": 16,
   "id": "2b9e55f3",
   "metadata": {},
   "outputs": [],
   "source": [
    "produtos.to_excel('produtos.xlsx')"
   ]
  }
 ],
 "metadata": {
  "kernelspec": {
   "display_name": "Python 3",
   "language": "python",
   "name": "python3"
  },
  "language_info": {
   "codemirror_mode": {
    "name": "ipython",
    "version": 3
   },
   "file_extension": ".py",
   "mimetype": "text/x-python",
   "name": "python",
   "nbconvert_exporter": "python",
   "pygments_lexer": "ipython3",
   "version": "3.8.8"
  }
 },
 "nbformat": 4,
 "nbformat_minor": 5
}
