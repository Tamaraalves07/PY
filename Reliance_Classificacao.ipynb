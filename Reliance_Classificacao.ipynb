{
 "cells": [
  {
   "cell_type": "code",
   "execution_count": 1,
   "id": "f9f636b3",
   "metadata": {},
   "outputs": [
    {
     "name": "stdout",
     "output_type": "stream",
     "text": [
      "[base_dados.py directory]: C:\\Temp\\Foundation\n",
      "[databases.py directory]: C:\\Temp\\Foundation\n"
     ]
    }
   ],
   "source": [
    "from databases import BDS, PosicaoDm1, Bawm,Crm,BaseExtrato,off_Reliance\n",
    "from funcoes_datas import FuncoesDatas\n",
    "from dateutil.relativedelta import relativedelta\n",
    "import pandas as pd\n",
    "from datetime import date, timedelta,datetime\n",
    "from dateutil.relativedelta import relativedelta\n",
    "import numpy as np\n",
    "import math\n",
    "from emailer import Email, EmailLer\n",
    "from pretty_html_table import build_table\n",
    "import funcoes"
   ]
  },
  {
   "cell_type": "code",
   "execution_count": 2,
   "id": "47806023",
   "metadata": {},
   "outputs": [],
   "source": [
    "#Chama as classes do databases e as classes do funções data\n",
    "rel_off = off_Reliance('Primeny')\n",
    "crm = Crm()\n",
    "bawm = Bawm()\n",
    "datas = FuncoesDatas()\n",
    "extrato = BaseExtrato()\n",
    "bds = BDS()\n",
    "fdt = FuncoesDatas()\n",
    "#Puxando a ultima data do mes anterior\n",
    "data = datetime.date(fdt.hoje() - relativedelta(days=fdt.hoje().day -1)+timedelta(days=-1))"
   ]
  },
  {
   "cell_type": "code",
   "execution_count": 3,
   "id": "05ac3916",
   "metadata": {},
   "outputs": [],
   "source": [
    "#Retorna os produtos da base offshore Reliance\n",
    "produtos_reliance=rel_off.produtos_isin()\n",
    "produtos_reliance['ISIN']=produtos_reliance['ISIN'].str.lower()\n",
    "produtos_reliance.columns=['ID_Produto','Ativo_Nome','id_bbg','ISIN','Classe','Subclasse','Categoria']\n",
    "produtos_reliance['Ativo_Nome']=produtos_reliance['Ativo_Nome'].str.lower()\n",
    "produtos_reliance = produtos_reliance.drop_duplicates(subset=['ID_Produto'])\n",
    "\n",
    "#Retorna os produtos da base GPS para cruzar o ISIN e classificar os produtos ex-Reliance\n",
    "produtos_gps = crm.produtos_off().rename(columns={'new_isin':'ISIN'})[['ISIN','new_indgroupaxysidname']]\n",
    "produtos_gps['ISIN']=produtos_gps['ISIN'].str.lower()\n",
    "\n",
    "#Verifica a classe que cada subclasse pertence (para ativos que estão na base GPS)\n",
    "de_para_ativos = pd.read_excel('O:/SAO/CICH_All/Portfolio Management/20 - Offshore/De Para Ativos.xlsx',sheet_name='Tb De Para Subclass')\n",
    "\n",
    "#Dicionario da classificação dos ativos dado pela area de investimentos produto a produto (produtos reliance) e unificando para a classificação gps.\n",
    "dicio_classificacao_investimentos_rel = pd.read_excel('O:/SAO/CICH_All/Portfolio Management/20 - Offshore/De Para Ativos.xlsx',sheet_name='de_para_classificao')\n",
    "dicio_classificacao_investimentos_rel=dicio_classificacao_investimentos_rel[['Classificação Reliance-Investimentos','Classificação GPS - v1']]\n",
    "dicio_classificacao_investimentos_rel = dict(dicio_classificacao_investimentos_rel.values)\n",
    "\n",
    "#Dicionario Reliance Classe + Subclasse + Categoria (feito por amostragem pela area de PM)\n",
    "dicio_classe_sub_categoria = pd.read_excel('O:/SAO/CICH_All/Portfolio Management/20 - Offshore/De Para Ativos.xlsx',sheet_name='de_para_classificao')\n",
    "dicio_classe_sub_categoria=dicio_classe_sub_categoria[['Classe_Subclasse_Categoria-Sistema','Classificação GPS - v2']]\n",
    "dicio_classe_sub_categoria = dict(dicio_classe_sub_categoria.values)\n",
    "\n",
    "#Saber a qual classe pertence cada subclasse\n",
    "dicio_classe_subclasse_gps = pd.read_excel('O:/SAO/CICH_All/Portfolio Management/20 - Offshore/De Para Ativos.xlsx',sheet_name='de_para_classificao')\n",
    "dicio_classe_subclasse_gps=dicio_classe_subclasse_gps[['Subclasse GPS','Classe']].astype('str')\n",
    "dicio_classe_subclasse_gps['Subclasse GPS']=dicio_classe_subclasse_gps['Subclasse GPS'].apply(lambda x: x.replace(' -',''))\n",
    "dicio_classe_subclasse_gps = dict(dicio_classe_subclasse_gps.values)\n",
    "\n",
    "#Dicionario Reliance Classe + Subclasse + Categoria\n",
    "dicio_projeto_estoque = pd.read_excel('O:/SAO/CICH_All/Portfolio Management/20 - Offshore/De Para Ativos.xlsx',sheet_name='de_para_classificao')\n",
    "depara_rel=dicio_projeto_estoque[['Classe-Categoria','Proposta Base Única']]\n",
    "depara_rel = dict(depara_rel.values)\n",
    "\n",
    "depara_rel_gps=dicio_projeto_estoque[['Proposta Base Única','Classe Unificada']]\n",
    "depara_rel_gps = dict(depara_rel_gps.values)\n",
    "\n",
    "#Retorna os ativos vinculados aos fowards\n",
    "fwd = rel_off.identificar_classe_fwd()\n",
    "\n",
    "#dicio para classificar os fwd\n",
    "dicio_fwd = pd.read_excel('O:/SAO/CICH_All/Portfolio Management/20 - Offshore/De Para Ativos.xlsx',sheet_name='de_para_classificao')\n",
    "dicio_fwd=dicio_fwd[['Classe_Alocacao_sistema','Classe GPS']]\n",
    "dicio_fwd = dict(dicio_fwd.values)\n"
   ]
  },
  {
   "cell_type": "code",
   "execution_count": 4,
   "id": "e1ab8514",
   "metadata": {},
   "outputs": [],
   "source": [
    "# #Mapeando os produtos que estão na posição reliance e segregando o que é posição e o que é estoque.\n",
    "\n",
    "#Traz a ultima data do mes anterior\n",
    "\n",
    "carteira_rel = rel_off.carteira_reliance(data)\n",
    "carteira_rel['ISIN'] = carteira_rel['ISIN'].str.lower()    \n",
    "carteira_rel['Nome_produto']=carteira_rel['Nome_produto'].str.lower()\n",
    "carteira_rel=carteira_rel.rename(columns={'ISIN_x':'ISIN','asset_class':'subclasse','Nome_produto':'Ativo_Nome'})[['Ativo_Nome','cd_security']]\n",
    "carteira_rel['Posicao'] = 'Possui Posição'\n",
    "carteira_rel = pd.merge(left=produtos_reliance,right=carteira_rel,on='Ativo_Nome',how='left')\n",
    "carteira_rel['Posicao'] = carteira_rel['Posicao'].fillna('Estoque')\n",
    "carteira_rel['Categoria']=carteira_rel['Categoria'].fillna('')   \n",
    "carteira_rel['Classe_Subclasse_Categoria']=carteira_rel['Classe']+'|'+carteira_rel['Subclasse']+'|'+carteira_rel['Categoria']\n",
    "carteira_rel['Classe_Subclasse']=carteira_rel['Classe']+'|'+carteira_rel['Categoria']\n"
   ]
  },
  {
   "cell_type": "code",
   "execution_count": 5,
   "id": "009fc586",
   "metadata": {},
   "outputs": [],
   "source": [
    "carteira_rel.to_excel('carteira_rel.xlsx')"
   ]
  },
  {
   "cell_type": "code",
   "execution_count": 6,
   "id": "db1ad983",
   "metadata": {},
   "outputs": [],
   "source": [
    "#Lê o excel que traz todas as classes e subclasses dos fundos (projeto base única de ativos)- Tratamento das informações dessa base que está em excel\n",
    "classificacoes = pd.read_excel('O:/SAO/CICH_All/Portfolio Management/20 - Offshore/De Para Ativos.xlsx',sheet_name='TB Security')\n",
    "classificacoes.columns =classificacoes.columns.str.strip()\n",
    "classificacoes = classificacoes[['Ativo_Nome','refClassSubClass','ClassSubClass']].rename(columns={'refAtivo':'Ativo_Nome'})\n",
    "classificacoes['Ativo_Nome']=classificacoes['Ativo_Nome'].str.lower().apply(lambda x: x.strip())\n",
    "classificacoes= classificacoes[classificacoes['Ativo_Nome']!='']\n",
    "classificacoes['refClassSubClass']=classificacoes['refClassSubClass'].astype('str')\n",
    "classificacoes['refClassSubClass']=classificacoes['refClassSubClass'].apply(lambda x: x.strip())\n",
    "classificacoes= classificacoes[classificacoes['refClassSubClass']!='']"
   ]
  },
  {
   "cell_type": "code",
   "execution_count": 7,
   "id": "b398ccaf",
   "metadata": {},
   "outputs": [],
   "source": [
    "#Consolida as classificações do projeto de base unica os produtos de toda a base.\n",
    "carteira_rel = pd.merge(left=carteira_rel,right=classificacoes,on='Ativo_Nome',how='left').drop(columns={'cd_security'})\n",
    "carteira_rel = pd.merge(left=carteira_rel, right=produtos_gps,on='ISIN',how='left').rename(columns={'new_indgroupaxysidname':'Subclasse_gps'})\n",
    "carteira_rel['Subclasse_gps'] = carteira_rel['Subclasse_gps'].fillna('Não Classificado')\n",
    "carteira_rel['Subclasse_gps']=carteira_rel['Subclasse_gps'].apply(lambda x: x.replace(' -',''))\n",
    "carteira_rel['ClassSubClass'] = carteira_rel['ClassSubClass'].fillna('Não Classificado')\n",
    "carteira_rel['Classe_gps'] = carteira_rel['Subclasse_gps'].apply(lambda x: dicio_classe_subclasse_gps[x] if x!='Não Classificado' else x)\n",
    "carteira_rel['Classe_gps'] = carteira_rel.apply(lambda row: dicio_classificacao_investimentos_rel[row['ClassSubClass']] if (row['ClassSubClass']!='Não Classificado')&(row['Subclasse_gps'] =='Não Classificado') else row['Classe_gps'],axis=1)\n",
    "carteira_rel['Classe']=carteira_rel['Classe_gps']\n",
    "carteira_rel['Subclasse']=carteira_rel['Subclasse_gps']\n",
    "carteira_rel = carteira_rel.drop_duplicates()"
   ]
  },
  {
   "cell_type": "code",
   "execution_count": 8,
   "id": "6a426a47",
   "metadata": {},
   "outputs": [],
   "source": [
    "#Trazendo tudo o que é private equity e classificando produtos que possuem as palavras chave\n",
    "lista_private_equity = ['investimento','comprometido','desembolsado','desembolsar','investido','investido','investment','commitment','called','pending']\n",
    "classes=[]\n",
    "for idx, row in carteira_rel.iterrows():\n",
    "    if (any(map(row['Ativo_Nome'].__contains__,lista_private_equity))):\n",
    "        classe = 'Iliq. P. Equity'\n",
    "    else:\n",
    "        classe = row['Classe']\n",
    "    classes.append(classe)\n",
    "carteira_rel['Classe']  =  classes\n",
    "carteira_rel = carteira_rel.drop_duplicates()\n",
    "\n",
    "#Verifica os ativos que são FWD e deixa igual do ativo que o mesmo oferece a profissão\n",
    "\n",
    "carteira_rel = pd.merge(left = carteira_rel, right = fwd, left_on = 'ID_Produto',right_on = 'cd_security', how = 'left').drop(columns=['cd_security','FowardCdSecurityRefHedge'])\n",
    "carteira_rel['asset_class'] = carteira_rel['asset_class'].astype('str')\n",
    "carteira_rel['asset_class'] = carteira_rel['asset_class'].apply(lambda x : None if  x == 'nan' else dicio_fwd[x])\n",
    "carteira_rel['Classe'].loc[carteira_rel['asset_class'].notnull()] = carteira_rel['asset_class'].loc[carteira_rel['asset_class'].notnull()]"
   ]
  },
  {
   "cell_type": "code",
   "execution_count": 9,
   "id": "f76c21f4",
   "metadata": {},
   "outputs": [
    {
     "name": "stdout",
     "output_type": "stream",
     "text": [
      "O total de ativos que possuímos posição é 2330, sendo que 2190 foram classficados - 94.0 % \n",
      " Falta classificar 140\n"
     ]
    },
    {
     "ename": "KeyError",
     "evalue": "Index([''], dtype='object')",
     "output_type": "error",
     "traceback": [
      "\u001b[1;31m---------------------------------------------------------------------------\u001b[0m",
      "\u001b[1;31mKeyError\u001b[0m                                  Traceback (most recent call last)",
      "\u001b[1;32m<ipython-input-9-d675b40aba52>\u001b[0m in \u001b[0;36m<module>\u001b[1;34m\u001b[0m\n\u001b[0;32m     44\u001b[0m \u001b[0mtexto_1\u001b[0m \u001b[1;33m=\u001b[0m \u001b[1;34mf'O total de ativos que possuímos posição é {ativos_totais}, sendo que {ativos_classificados} foram classficados - {str(round(ativos_classificados/ativos_totais,2)*100)} % \\n Falta classificar {ativos_totais-ativos_classificados}'\u001b[0m\u001b[1;33m\u001b[0m\u001b[1;33m\u001b[0m\u001b[0m\n\u001b[0;32m     45\u001b[0m \u001b[0mprint\u001b[0m\u001b[1;33m(\u001b[0m\u001b[0mtexto_1\u001b[0m\u001b[1;33m)\u001b[0m\u001b[1;33m\u001b[0m\u001b[1;33m\u001b[0m\u001b[0m\n\u001b[1;32m---> 46\u001b[1;33m \u001b[0mcarteira_posicao\u001b[0m \u001b[1;33m=\u001b[0m \u001b[0mcarteira_posicao\u001b[0m\u001b[1;33m.\u001b[0m\u001b[0mdrop_duplicates\u001b[0m\u001b[1;33m(\u001b[0m\u001b[0msubset\u001b[0m \u001b[1;33m=\u001b[0m\u001b[1;33m[\u001b[0m\u001b[1;34m''\u001b[0m\u001b[1;33m]\u001b[0m\u001b[1;33m)\u001b[0m\u001b[1;33m\u001b[0m\u001b[1;33m\u001b[0m\u001b[0m\n\u001b[0m\u001b[0;32m     47\u001b[0m \u001b[1;33m\u001b[0m\u001b[0m\n\u001b[0;32m     48\u001b[0m \u001b[1;31m# #Planilha para classificar os ativos na bbg\u001b[0m\u001b[1;33m\u001b[0m\u001b[1;33m\u001b[0m\u001b[1;33m\u001b[0m\u001b[0m\n",
      "\u001b[1;32mC:\\ProgramData\\Anaconda3\\lib\\site-packages\\pandas\\core\\frame.py\u001b[0m in \u001b[0;36mdrop_duplicates\u001b[1;34m(self, subset, keep, inplace, ignore_index)\u001b[0m\n\u001b[0;32m   5269\u001b[0m         \u001b[0minplace\u001b[0m \u001b[1;33m=\u001b[0m \u001b[0mvalidate_bool_kwarg\u001b[0m\u001b[1;33m(\u001b[0m\u001b[0minplace\u001b[0m\u001b[1;33m,\u001b[0m \u001b[1;34m\"inplace\"\u001b[0m\u001b[1;33m)\u001b[0m\u001b[1;33m\u001b[0m\u001b[1;33m\u001b[0m\u001b[0m\n\u001b[0;32m   5270\u001b[0m         \u001b[0mignore_index\u001b[0m \u001b[1;33m=\u001b[0m \u001b[0mvalidate_bool_kwarg\u001b[0m\u001b[1;33m(\u001b[0m\u001b[0mignore_index\u001b[0m\u001b[1;33m,\u001b[0m \u001b[1;34m\"ignore_index\"\u001b[0m\u001b[1;33m)\u001b[0m\u001b[1;33m\u001b[0m\u001b[1;33m\u001b[0m\u001b[0m\n\u001b[1;32m-> 5271\u001b[1;33m         \u001b[0mduplicated\u001b[0m \u001b[1;33m=\u001b[0m \u001b[0mself\u001b[0m\u001b[1;33m.\u001b[0m\u001b[0mduplicated\u001b[0m\u001b[1;33m(\u001b[0m\u001b[0msubset\u001b[0m\u001b[1;33m,\u001b[0m \u001b[0mkeep\u001b[0m\u001b[1;33m=\u001b[0m\u001b[0mkeep\u001b[0m\u001b[1;33m)\u001b[0m\u001b[1;33m\u001b[0m\u001b[1;33m\u001b[0m\u001b[0m\n\u001b[0m\u001b[0;32m   5272\u001b[0m \u001b[1;33m\u001b[0m\u001b[0m\n\u001b[0;32m   5273\u001b[0m         \u001b[0mresult\u001b[0m \u001b[1;33m=\u001b[0m \u001b[0mself\u001b[0m\u001b[1;33m[\u001b[0m\u001b[1;33m-\u001b[0m\u001b[0mduplicated\u001b[0m\u001b[1;33m]\u001b[0m\u001b[1;33m\u001b[0m\u001b[1;33m\u001b[0m\u001b[0m\n",
      "\u001b[1;32mC:\\ProgramData\\Anaconda3\\lib\\site-packages\\pandas\\core\\frame.py\u001b[0m in \u001b[0;36mduplicated\u001b[1;34m(self, subset, keep)\u001b[0m\n\u001b[0;32m   5403\u001b[0m         \u001b[0mdiff\u001b[0m \u001b[1;33m=\u001b[0m \u001b[0mIndex\u001b[0m\u001b[1;33m(\u001b[0m\u001b[0msubset\u001b[0m\u001b[1;33m)\u001b[0m\u001b[1;33m.\u001b[0m\u001b[0mdifference\u001b[0m\u001b[1;33m(\u001b[0m\u001b[0mself\u001b[0m\u001b[1;33m.\u001b[0m\u001b[0mcolumns\u001b[0m\u001b[1;33m)\u001b[0m\u001b[1;33m\u001b[0m\u001b[1;33m\u001b[0m\u001b[0m\n\u001b[0;32m   5404\u001b[0m         \u001b[1;32mif\u001b[0m \u001b[1;32mnot\u001b[0m \u001b[0mdiff\u001b[0m\u001b[1;33m.\u001b[0m\u001b[0mempty\u001b[0m\u001b[1;33m:\u001b[0m\u001b[1;33m\u001b[0m\u001b[1;33m\u001b[0m\u001b[0m\n\u001b[1;32m-> 5405\u001b[1;33m             \u001b[1;32mraise\u001b[0m \u001b[0mKeyError\u001b[0m\u001b[1;33m(\u001b[0m\u001b[0mdiff\u001b[0m\u001b[1;33m)\u001b[0m\u001b[1;33m\u001b[0m\u001b[1;33m\u001b[0m\u001b[0m\n\u001b[0m\u001b[0;32m   5406\u001b[0m \u001b[1;33m\u001b[0m\u001b[0m\n\u001b[0;32m   5407\u001b[0m         \u001b[0mvals\u001b[0m \u001b[1;33m=\u001b[0m \u001b[1;33m(\u001b[0m\u001b[0mcol\u001b[0m\u001b[1;33m.\u001b[0m\u001b[0mvalues\u001b[0m \u001b[1;32mfor\u001b[0m \u001b[0mname\u001b[0m\u001b[1;33m,\u001b[0m \u001b[0mcol\u001b[0m \u001b[1;32min\u001b[0m \u001b[0mself\u001b[0m\u001b[1;33m.\u001b[0m\u001b[0mitems\u001b[0m\u001b[1;33m(\u001b[0m\u001b[1;33m)\u001b[0m \u001b[1;32mif\u001b[0m \u001b[0mname\u001b[0m \u001b[1;32min\u001b[0m \u001b[0msubset\u001b[0m\u001b[1;33m)\u001b[0m\u001b[1;33m\u001b[0m\u001b[1;33m\u001b[0m\u001b[0m\n",
      "\u001b[1;31mKeyError\u001b[0m: Index([''], dtype='object')"
     ]
    }
   ],
   "source": [
    "#Separando produtos com posição\n",
    "carteira_posicao = carteira_rel[carteira_rel['Posicao']=='Possui Posição'].reset_index(drop=True)\n",
    "classe_subclasse_categoria = carteira_posicao['Classe_Subclasse_Categoria']\n",
    "classe_categoria = carteira_posicao['Classe_Subclasse']\n",
    "\n",
    "\n",
    "#Classificação feita por PM olhando 5 ativos de cada combinação (total de 200) e analisando qual classe mais de adqueda caso exista algum padrão\n",
    "classificacao_pm=[]\n",
    "for classe in classe_subclasse_categoria:\n",
    "    try:\n",
    "        classifica = dicio_classe_sub_categoria[classe]\n",
    "    except:\n",
    "        classifica = 'Não Classificado'\n",
    "    classificacao_pm.append(classifica)    \n",
    "        \n",
    "carteira_posicao['Classe_gps-Classificacao_PM']=classificacao_pm\n",
    "\n",
    "#Classificação feita no projeto de base de ativos com depara entre as classes/categoria.. posteriormente foi feito um depara para a classificaçã gps\n",
    "classificacao_projeto_baseunica =[]\n",
    "for classe in classe_categoria:\n",
    "    try:\n",
    "        classifica = depara_rel_gps[depara_rel[classe]]\n",
    "    except:\n",
    "        classifica = 'Não Classificado'\n",
    "    classificacao_projeto_baseunica.append(classifica)    \n",
    "        \n",
    "carteira_posicao['Classe_gps-classificacao_projeto_baseunica']=classificacao_projeto_baseunica\n",
    "\n",
    "#Se a classificação feita por PM e pela base unica forem a mesma consideramos essa, senão o ativo será marcado como não classificado.\n",
    "\n",
    "carteira_posicao['Classe'] = carteira_posicao.apply(lambda row: row['Classe_gps-Classificacao_PM'] if (row['Classe_gps-Classificacao_PM']==row['Classe_gps-classificacao_projeto_baseunica'])&(row['Classe']=='Não Classificado') else row['Classe'],axis=1)\n",
    "\n",
    "#Puxando a classificação manual que fizemos na BBG - Proximo Passo\n",
    "\n",
    "# data_consulta = \"{}.{}.{}\".format(data.day,data.month,data.year)\n",
    "# manual = pd.read_excel(f'O:/SAO/CICH_All/Portfolio Management/20 - Offshore/Classificacao/verificar_ativos_estoque-{data_consulta}.xlsx')[['ID_Produto','Classe']]\n",
    "# carteira_posicao=pd.merge(left=carteira_posicao,right=manual,on='ID_Produto',how='left')\n",
    "# # carteira_posicao['Classe']= carteira_posicao.apply(lambda row: row['Classe_y'] if row['Classe_x']=='Não Classificado' else row['Classe_x'],axis=1)\n",
    "# # carteira_posicao = carteira_posicao.drop(columns={'Classe_y'})\n",
    "\n",
    "#Analise do que conseguimos classificar\n",
    "ativos_totais = len(carteira_posicao)\n",
    "ativos_classificados = ativos_totais - len(carteira_posicao[carteira_posicao['Classe']=='Não Classificado'])\n",
    "texto_1 = f'O total de ativos que possuímos posição é {ativos_totais}, sendo que {ativos_classificados} foram classficados - {str(round(ativos_classificados/ativos_totais,2)*100)} % \\n Falta classificar {ativos_totais-ativos_classificados}'\n",
    "print(texto_1)\n",
    "carteira_posicao = carteira_posicao.drop_duplicates(subset =['Ativo_Nome'])\n",
    "\n",
    "# #Planilha para classificar os ativos na bbg\n",
    "# verificar= carteira_posicao[carteira_posicao['Classe']=='Não Classificado'].to_excel('O:/SAO/CICH_All/Portfolio Management/20 - Offshore/6-  Classificacao/verificar_ativos.xlsx')\n",
    "\n",
    "#Planilha com a classificação da posicão\n",
    "carteira_posicao.to_excel('O:/SAO/CICH_All/Portfolio Management/20 - Offshore/6-  Classificacao/classifica_posicao.xlsx')\n",
    "\n"
   ]
  },
  {
   "cell_type": "code",
   "execution_count": 12,
   "id": "bdc028fb",
   "metadata": {},
   "outputs": [
    {
     "name": "stdout",
     "output_type": "stream",
     "text": [
      "O total de ativos que possuímos apenas em estoque é 22088, sendo que 20381 foram classficados - 92.0 % \n",
      " Falta classificar 1707\n"
     ]
    }
   ],
   "source": [
    "#Separando produtos que estão com estoque\n",
    "carteira_estoque = carteira_rel[carteira_rel['Posicao']=='Estoque'].reset_index(drop=True)\n",
    "\n",
    "classe_subclasse_categoria = carteira_estoque['Classe_Subclasse_Categoria']\n",
    "classe_categoria = carteira_estoque['Classe_Subclasse']\n",
    "\n",
    "\n",
    "#Classificação feita por PM olhando 5 ativos de cada combinação (total de 200) e analisando qual classe mais de adqueda caso exista algum padrão\n",
    "classificacao_pm=[]\n",
    "for classe in classe_subclasse_categoria:\n",
    "    try:\n",
    "        classifica = dicio_classe_sub_categoria[classe]\n",
    "    except:\n",
    "        classifica = 'Não Classificado'\n",
    "    classificacao_pm.append(classifica)    \n",
    "        \n",
    "carteira_estoque['Classe_gps-Classificacao_PM']=classificacao_pm\n",
    "\n",
    "\n",
    "#Classificação feita no projeto de base de ativos com depara entre as classes/categoria.. posteriormente foi feito um depara para a classificaçã gps\n",
    "classificacao_projeto_baseunica =[]\n",
    "for classe in classe_categoria:\n",
    "    try:\n",
    "        classifica = depara_rel_gps[depara_rel[classe]]\n",
    "    except:\n",
    "        classifica = 'Não Classificado'\n",
    "    classificacao_projeto_baseunica.append(classifica)    \n",
    "        \n",
    "carteira_estoque['Classe_gps-classificacao_projeto_baseunica']=classificacao_projeto_baseunica\n",
    "\n",
    "#Se a classificação feita por PM e pela base unica forem a mesma consideramos essa, senão o ativo será marcado como não classificado.\n",
    "\n",
    "carteira_estoque['Classe'] = carteira_estoque.apply(lambda row: row['Classe_gps-Classificacao_PM'] if (row['Classe_gps-Classificacao_PM']==row['Classe_gps-classificacao_projeto_baseunica'])&(row['Classe']=='Não Classificado') else row['Classe_gps-classificacao_projeto_baseunica'] if (row['Classe_gps-Classificacao_PM']=='Não Classificado')&(row['Classe']=='Não Classificado') else row['Classe'],axis=1)\n",
    "\n",
    "#Analise do que conseguimos classificar\n",
    "ativos_totais = len(carteira_estoque)\n",
    "ativos_classificados = ativos_totais - len(carteira_estoque[carteira_estoque['Classe']=='Não Classificado'])\n",
    "texto_2 = f'O total de ativos que possuímos apenas em estoque é {ativos_totais}, sendo que {ativos_classificados} foram classficados - {str(round(ativos_classificados/ativos_totais,2)*100)} % \\n Falta classificar {ativos_totais-ativos_classificados}'\n",
    "print(texto_2)\n",
    "\n",
    "#Planilha para classificar os ativos na bbg\n",
    "verificar= carteira_estoque[carteira_estoque['Classe']=='Não Classificado'].to_excel('verificar_ativos_estoque.xlsx')\n",
    "\n",
    "#Planilha com a classificação do estoque\n",
    "carteira_estoque.to_excel('O:/SAO/CICH_All/Portfolio Management/20 - Offshore/6-  Classificacao/classifica_estoque.xlsx')"
   ]
  },
  {
   "cell_type": "code",
   "execution_count": 13,
   "id": "7f36fb63",
   "metadata": {
    "scrolled": true
   },
   "outputs": [
    {
     "name": "stdout",
     "output_type": "stream",
     "text": [
      "O total de ativos que possuímos na base é 24372, sendo que 22525 foram classficados - 92.0 % \n",
      " Falta classificar 1847\n"
     ]
    }
   ],
   "source": [
    "estoque = carteira_estoque[['ID_Produto','Ativo_Nome','id_bbg','ISIN','Classe','Posicao']].rename(columns={'Classe':'cd_asset_class_name'})\n",
    "posicao = carteira_posicao[['ID_Produto','Ativo_Nome','id_bbg','ISIN','Classe','Posicao']].rename(columns={'Classe':'cd_asset_class_name'})\n",
    "classificacao_total = pd.concat([posicao,estoque]).sort_values(by=['ID_Produto'])\n",
    "classificacao_total = classificacao_total.drop_duplicates(subset=['ID_Produto'])\n",
    "ativos_totais = len(classificacao_total)\n",
    "ativos_classificados = ativos_totais - len(classificacao_total[classificacao_total['cd_asset_class_name']=='Não Classificado'])\n",
    "texto_2 = f'O total de ativos que possuímos na base é {ativos_totais}, sendo que {ativos_classificados} foram classficados - {str(round(ativos_classificados/ativos_totais,2)*100)} % \\n Falta classificar {ativos_totais-ativos_classificados}'\n",
    "print(texto_2)"
   ]
  },
  {
   "cell_type": "code",
   "execution_count": 14,
   "id": "4048a9bb",
   "metadata": {},
   "outputs": [],
   "source": [
    "contagem = classificacao_total.groupby(['Ativo_Nome','id_bbg', 'ISIN','cd_asset_class_name']).size().reset_index(name='counts')\n",
    "contagem = contagem.sort_values(['cd_asset_class_name','counts'],ascending=False).groupby(['cd_asset_class_name']).head(10).dropna(subset=['cd_asset_class_name']).reset_index(drop=True)\n",
    "lista = contagem['cd_asset_class_name'].drop_duplicates().to_list()\n",
    "contagem.to_excel('amostragem_classificação.xlsx')"
   ]
  },
  {
   "cell_type": "code",
   "execution_count": 15,
   "id": "23ee8483",
   "metadata": {},
   "outputs": [],
   "source": [
    "classificacao_total.to_excel('classificacao_total.xlsx')"
   ]
  }
 ],
 "metadata": {
  "kernelspec": {
   "display_name": "Python 3",
   "language": "python",
   "name": "python3"
  }
 },
 "nbformat": 4,
 "nbformat_minor": 5
}
