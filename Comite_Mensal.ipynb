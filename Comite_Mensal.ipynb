{
 "cells": [
  {
   "cell_type": "code",
   "execution_count": 1,
   "id": "58eed232",
   "metadata": {},
   "outputs": [
    {
     "name": "stdout",
     "output_type": "stream",
     "text": [
      "[base_dados.py directory]: C:\\Temp\\Foundation\n",
      "[databases.py directory]: C:\\Temp\\Foundation\n"
     ]
    }
   ],
   "source": [
    "from databases import PosicaoDm1,Crm,BDS, Boletador\n",
    "from funcoes_datas import FuncoesDatas\n",
    "import pandas as pd\n",
    "from datetime import datetime,date,timedelta\n",
    "from dateutil.relativedelta import relativedelta\n",
    "import re\n",
    "import numpy as np \n",
    "from emailer import Email \n",
    "import math\n",
    "import locale\n",
    "from pretty_html_table import build_table"
   ]
  },
  {
   "cell_type": "code",
   "execution_count": 2,
   "id": "4b6cb9f7",
   "metadata": {},
   "outputs": [],
   "source": [
    "#Chamando as classesdo DataBases\n",
    "posicao = PosicaoDm1()\n",
    "crm= Crm()\n",
    "fdt = FuncoesDatas()\n",
    "bds = BDS()\n",
    "fdt = FuncoesDatas()\n",
    "hoje = fdt.hoje()\n",
    "bol = Boletador()"
   ]
  },
  {
   "cell_type": "code",
   "execution_count": 3,
   "id": "73be614e",
   "metadata": {},
   "outputs": [],
   "source": [
    "def moeda(my_value):\n",
    "    a = '{:,.2f}'.format(float(my_value))\n",
    "    b = a.replace(',','v')\n",
    "    c = b.replace('.',',')\n",
    "    return c.replace('v','.')"
   ]
  },
  {
   "cell_type": "code",
   "execution_count": 4,
   "id": "c1c0c94e",
   "metadata": {},
   "outputs": [],
   "source": [
    "#Posicao ultimo_mes\n",
    "carteira_atual = posicao.posicao_total_depara(hoje)[['DataArquivo','NomeContaCRM','TipoProduto','GuidProduto','NomeProduto','QuantidadeFinal','FinanceiroFuturo']]\n",
    "carteira_atual=carteira_atual.sort_values(by=['NomeContaCRM','QuantidadeFinal','NomeProduto'])\n",
    "carteira_atual['GuidProduto']= carteira_atual['GuidProduto'].str.lower()\n",
    "\n",
    "#Retirar da carteira Caixa e Compromissada\n",
    "carteira_atual = carteira_atual[(carteira_atual['TipoProduto']!='CAIXA')&(carteira_atual['TipoProduto']!='COMP')]"
   ]
  },
  {
   "cell_type": "code",
   "execution_count": 5,
   "id": "ee1aa9a6",
   "metadata": {},
   "outputs": [],
   "source": [
    "#POsicao M-2\n",
    "#Posicao ultimo_mes\n",
    "carteira_atual = posicao.posicao_total_depara(hoje)[['DataArquivo','NomeContaCRM','TipoProduto','GuidProduto','NomeProduto','QuantidadeFinal','FinanceiroFuturo']]\n",
    "carteira_atual=carteira_atual.sort_values(by=['NomeContaCRM','QuantidadeFinal','NomeProduto'])\n",
    "carteira_atual['GuidProduto']= carteira_atual['GuidProduto'].str.lower()\n",
    "\n",
    "#Retirar da carteira Caixa e Compromissada\n",
    "carteira_atual = carteira_atual[(carteira_atual['TipoProduto']!='CAIXA')&(carteira_atual['TipoProduto']!='COMP')]"
   ]
  },
  {
   "cell_type": "code",
   "execution_count": 6,
   "id": "81944c5d",
   "metadata": {},
   "outputs": [
    {
     "ename": "NameError",
     "evalue": "name 'produtos' is not defined",
     "output_type": "error",
     "traceback": [
      "\u001b[1;31m---------------------------------------------------------------------------\u001b[0m",
      "\u001b[1;31mNameError\u001b[0m                                 Traceback (most recent call last)",
      "Input \u001b[1;32mIn [6]\u001b[0m, in \u001b[0;36m<cell line: 9>\u001b[1;34m()\u001b[0m\n\u001b[0;32m      6\u001b[0m produtos_comite \u001b[38;5;241m=\u001b[39m produtos_comite\u001b[38;5;241m.\u001b[39mdropna(subset\u001b[38;5;241m=\u001b[39m[\u001b[38;5;124m'\u001b[39m\u001b[38;5;124mCetip/Isin/CNPJ\u001b[39m\u001b[38;5;124m'\u001b[39m])\n\u001b[0;32m      8\u001b[0m \u001b[38;5;66;03m#Vincula os dados informados  com o codigo crm\u001b[39;00m\n\u001b[1;32m----> 9\u001b[0m cnpj \u001b[38;5;241m=\u001b[39m pd\u001b[38;5;241m.\u001b[39mmerge(left \u001b[38;5;241m=\u001b[39mprodutos_comite,right\u001b[38;5;241m=\u001b[39m\u001b[43mprodutos\u001b[49m,left_on\u001b[38;5;241m=\u001b[39m\u001b[38;5;124m'\u001b[39m\u001b[38;5;124mCetip/Isin/CNPJ\u001b[39m\u001b[38;5;124m'\u001b[39m,right_on\u001b[38;5;241m=\u001b[39m\u001b[38;5;124m'\u001b[39m\u001b[38;5;124mCNPJ\u001b[39m\u001b[38;5;124m'\u001b[39m,how\u001b[38;5;241m=\u001b[39m\u001b[38;5;124m'\u001b[39m\u001b[38;5;124mleft\u001b[39m\u001b[38;5;124m'\u001b[39m)\n\u001b[0;32m     10\u001b[0m isin \u001b[38;5;241m=\u001b[39m  pd\u001b[38;5;241m.\u001b[39mmerge(left \u001b[38;5;241m=\u001b[39m produtos_comite,right\u001b[38;5;241m=\u001b[39mprodutos,left_on\u001b[38;5;241m=\u001b[39m\u001b[38;5;124m'\u001b[39m\u001b[38;5;124mCetip/Isin/CNPJ\u001b[39m\u001b[38;5;124m'\u001b[39m,right_on\u001b[38;5;241m=\u001b[39m\u001b[38;5;124m'\u001b[39m\u001b[38;5;124mISIN\u001b[39m\u001b[38;5;124m'\u001b[39m,how\u001b[38;5;241m=\u001b[39m\u001b[38;5;124m'\u001b[39m\u001b[38;5;124mleft\u001b[39m\u001b[38;5;124m'\u001b[39m)\n\u001b[0;32m     11\u001b[0m cetip \u001b[38;5;241m=\u001b[39m pd\u001b[38;5;241m.\u001b[39mmerge(left \u001b[38;5;241m=\u001b[39m produtos_comite,right\u001b[38;5;241m=\u001b[39mprodutos,left_on\u001b[38;5;241m=\u001b[39m\u001b[38;5;124m'\u001b[39m\u001b[38;5;124mCetip/Isin/CNPJ\u001b[39m\u001b[38;5;124m'\u001b[39m,right_on\u001b[38;5;241m=\u001b[39m\u001b[38;5;124m'\u001b[39m\u001b[38;5;124mCETIP\u001b[39m\u001b[38;5;124m'\u001b[39m,how\u001b[38;5;241m=\u001b[39m\u001b[38;5;124m'\u001b[39m\u001b[38;5;124mleft\u001b[39m\u001b[38;5;124m'\u001b[39m)\n",
      "\u001b[1;31mNameError\u001b[0m: name 'produtos' is not defined"
     ]
    }
   ],
   "source": [
    "#Retorna os dados da planilha de forma bruta (trata os ISINS / CODs para localizar no CRM)\n",
    "produtos_comite = pd.read_excel('O:/SAO/CICH_All/Investment Solutions/11. Comitê Exceção/Consolidado - Ativos Analisados v3.xlsx')\n",
    "produtos_comite['Cetip/Isin/CNPJ']=produtos_comite['Cetip/Isin/CNPJ'].str.lower()\n",
    "produtos_comite = produtos_comite.dropna(subset=['Cetip/Isin/CNPJ'])\n",
    "produtos_comite = produtos_comite[produtos_comite['On/Off']!='OFF']\n",
    "produtos_comite = produtos_comite.dropna(subset=['Cetip/Isin/CNPJ'])\n",
    "\n",
    "#Vincula os dados informados  com o codigo crm\n",
    "cnpj = pd.merge(left =produtos_comite,right=produtos,left_on='Cetip/Isin/CNPJ',right_on='CNPJ',how='left')\n",
    "isin =  pd.merge(left = produtos_comite,right=produtos,left_on='Cetip/Isin/CNPJ',right_on='ISIN',how='left')\n",
    "cetip = pd.merge(left = produtos_comite,right=produtos,left_on='Cetip/Isin/CNPJ',right_on='CETIP',how='left')\n",
    "\n",
    "#Unifica as bases\n",
    "ativos_comite = pd.concat([cnpj,isin,cetip])\n",
    "\n",
    "#Retorna apenas os clientes que passaram pelo comite e suas posições\n",
    "string = carteira_atual['NomeContaCRM'].drop_duplicates().to_list()\n",
    "substr = ativos_comite['Cliente'].drop_duplicates().to_list()\n",
    "\n",
    "def Filter(string, substr):\n",
    "    return [str for str in string if\n",
    "             any(sub in str for sub in substr)]\n",
    "\n",
    "clientes_comite = Filter(string, substr)\n"
   ]
  }
 ],
 "metadata": {
  "kernelspec": {
   "display_name": "Python 3 (ipykernel)",
   "language": "python",
   "name": "python3"
  },
  "language_info": {
   "codemirror_mode": {
    "name": "ipython",
    "version": 3
   },
   "file_extension": ".py",
   "mimetype": "text/x-python",
   "name": "python",
   "nbconvert_exporter": "python",
   "pygments_lexer": "ipython3",
   "version": "3.9.12"
  }
 },
 "nbformat": 4,
 "nbformat_minor": 5
}
