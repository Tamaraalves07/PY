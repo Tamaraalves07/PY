{
 "cells": [
  {
   "cell_type": "code",
   "execution_count": 95,
   "id": "20fb9c01",
   "metadata": {},
   "outputs": [],
   "source": [
    "import os\n",
    "import pandas as pd\n",
    "from datetime import datetime\n",
    "from databases import PosicaoDm1Pickle, Crm,PosicaoDm1,Bawm\n",
    "from filemanager import FileMgmt\n",
    "\n",
    "dm1 = PosicaoDm1Pickle()\n",
    "bawm = Bawm()\n",
    "crm = Crm()\n",
    "posicao = PosicaoDm1()\n",
    "\n"
   ]
  },
  {
   "cell_type": "code",
   "execution_count": 178,
   "id": "4460f16e",
   "metadata": {},
   "outputs": [],
   "source": [
    "#Posicao\n",
    "pos_ti = dm1.posicao_titularidade_all()[['NomeContaCRM','PLFuturo']].drop_duplicates()\n",
    "pos_fundos = dm1.posicao_fundos_all(apenas_exclusivos=False)\n",
    "pls_fundos = dm1.fundos_pl_estimado()\n",
    "\n",
    "contas = crm.contas_movimento_all()[['accountid','Banco','new_agencia','new_numeroconta','new_digitoconta','ControleJBBName']]\n",
    "contas = contas[(contas['new_agencia']=='2856')|(contas['Banco']=='Banco BTG Pactual SA')].rename(columns={'accountid':'GuidContaCRM'})\n",
    "\n",
    "\n",
    "po_cadastro = posicao.po_cadastro(apenas_fundos=False)[['GuidContaCRM','NomeContaCRM','Officer','Controller','Segmento','Tipo','TipoCliente']]\n",
    "\n",
    "pos_ti = pd.merge(left=pos_ti,right=po_cadastro, on='NomeContaCRM',how='left')\n",
    "pos_ti = pos_ti[~pos_ti['TipoCliente'].str.contains('Distrato')]\n",
    "pos_ti = pd.merge(left=pos_ti,right=contas, on='GuidContaCRM',how='left').drop_duplicates()\n",
    "\n",
    "clientes_s_conta = pos_ti[pos_ti['new_agencia'].isnull()].reset_index(drop=True).sort_values(by=['Segmento'])\n"
   ]
  }
 ],
 "metadata": {
  "kernelspec": {
   "display_name": "Python 3",
   "language": "python",
   "name": "python3"
  },
  "language_info": {
   "codemirror_mode": {
    "name": "ipython",
    "version": 3
   },
   "file_extension": ".py",
   "mimetype": "text/x-python",
   "name": "python",
   "nbconvert_exporter": "python",
   "pygments_lexer": "ipython3",
   "version": "3.8.8"
  }
 },
 "nbformat": 4,
 "nbformat_minor": 5
}
